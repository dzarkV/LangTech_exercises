{
  "nbformat": 4,
  "nbformat_minor": 0,
  "metadata": {
    "colab": {
      "name": "Vocab w\\ Tensorflow.ipynb",
      "provenance": [],
      "collapsed_sections": []
    },
    "kernelspec": {
      "name": "python3",
      "display_name": "Python 3"
    },
    "language_info": {
      "name": "python"
    }
  },
  "cells": [
    {
      "cell_type": "markdown",
      "source": [
        "URL: https://www.youtube.com/watch?v=ZBCLIvznxnI"
      ],
      "metadata": {
        "id": "cYUVNBJ-v6-e"
      }
    },
    {
      "cell_type": "code",
      "execution_count": 1,
      "metadata": {
        "id": "OgKd_GGueMZU",
        "colab": {
          "base_uri": "https://localhost:8080/"
        },
        "outputId": "fdfb7a91-7f9a-42a5-b3ed-6fd35ffb4a02"
      },
      "outputs": [
        {
          "output_type": "stream",
          "name": "stdout",
          "text": [
            "\u001b[K     |████████████████████████████████| 4.6 MB 8.5 MB/s \n",
            "\u001b[K     |████████████████████████████████| 511.7 MB 5.8 kB/s \n",
            "\u001b[K     |████████████████████████████████| 438 kB 58.9 MB/s \n",
            "\u001b[K     |████████████████████████████████| 1.6 MB 48.6 MB/s \n",
            "\u001b[K     |████████████████████████████████| 5.8 MB 36.7 MB/s \n",
            "\u001b[?25h"
          ]
        }
      ],
      "source": [
        "!pip install -q tensorflow-text"
      ]
    },
    {
      "cell_type": "code",
      "source": [
        "import re\n",
        "from collections import Counter\n",
        "import matplotlib.pyplot as plt\n",
        "import tensorflow as tf\n",
        "import tensorflow_text as tftext"
      ],
      "metadata": {
        "id": "UJ6k2y2wuFBc"
      },
      "execution_count": 5,
      "outputs": []
    },
    {
      "cell_type": "markdown",
      "source": [
        "### Text encoding"
      ],
      "metadata": {
        "id": "fMooWZ3EunIa"
      }
    },
    {
      "cell_type": "code",
      "source": [
        "with open('/content/course.txt', 'r') as rt :\n",
        "    text_init = rt.read()\n",
        "low_text = text_init.lower()\n",
        "\n",
        "utf16_text = low_text.encode('UTF-16')\n",
        "utf_text = tf.strings.unicode_transcode(utf16_text, input_encoding = 'UTF-16', output_encoding = 'UTF-8')\n",
        "\n",
        "utf_byte = utf_text.numpy()\n",
        "returned_text_string = utf_byte.decode('UTF-8')\n",
        "print(returned_text_string)"
      ],
      "metadata": {
        "id": "AIvrJwO6uTZl"
      },
      "execution_count": null,
      "outputs": []
    },
    {
      "cell_type": "markdown",
      "source": [
        "### Tokenization"
      ],
      "metadata": {
        "id": "lwPBDX6dus-N"
      }
    },
    {
      "cell_type": "code",
      "source": [
        "tokenizer = tftext.UnicodeScriptTokenizer()\n",
        "tokens = tokenizer.tokenize(utf_text)\n",
        "\n",
        "l_tokens = list(tokens.numpy())\n",
        "print('Tokens: \\n', l_tokens)\n"
      ],
      "metadata": {
        "colab": {
          "base_uri": "https://localhost:8080/"
        },
        "id": "UiFOALo7uvjr",
        "outputId": "96bb4187-d7fd-4117-a3fc-9e0b1b0d42c8"
      },
      "execution_count": 8,
      "outputs": [
        {
          "output_type": "stream",
          "name": "stdout",
          "text": [
            "Tokens: \n",
            " [b'introducci\\xc3\\xb3n', b'la', b'proliferaci\\xc3\\xb3n', b'del', b'uso', b'de', b'internet', b'ha', b'provocado', b'el', b'nacimiento', b'de', b'diversos', b'medios', b',', b'redes', b'y', b'recursos', b'que', b'tienen', b'por', b'fin', b'entretener', b',', b'socializar', b'u', b'opinar', b'.', b'entre', b'la', b'variedad', b'de', b'recursos', b'comunicativos', b'portadores', b'de', b'significado', b'surge', b'el', b'meme', b',', b'fen\\xc3\\xb3meno', b'creativo', b'que', b'es', b'masificado', b'y', b'reproducido', b'por', b'usuarios', b'alrededor', b'del', b'mundo', b'.', b'as\\xc3\\xad', b',', b'el', b'meme', b'tiene', b'como', b'caracter\\xc3\\xadstica', b'la', b'replicaci\\xc3\\xb3n', b'.\\xc2\\xbf', b'por', b'qu\\xc3\\xa9', b'?', b'objetivos', b'en', b'este', b'curso', b'aprender\\xc3\\xa1s', b'los', b'conceptos', b'de', b'intertextualidad', b'y', b'resemantizaci\\xc3\\xb3n', b'para', b'entender', b'qu\\xc3\\xa9', b'caracteriza', b'a', b'un', b'meme', b'y', b'por', b'qu\\xc3\\xa9', b'se', b'vuelve', b'viral', b'.', b'\\xc3\\xadndice', b'en', b'este', b'\\xc3\\xadndice', b'encontraras', b'las', b'secciones', b'que', b'componen', b'este', b'curso', b'.', b'navega', b'por', b'ellas', b'para', b'aprender', b'las', b'definiciones', b'de', b'los', b'conceptos', b'y', b'ver', b'algunos', b'ejemplos', b'.', b'adem\\xc3\\xa1s', b',', b'podr\\xc3\\xa1s', b'realizar', b'las', b'actividades', b'y', b'el', b'cuestionario', b'para', b'poner', b'a', b'prueba', b'lo', b'aprendido', b'.\\xc2\\xbf', b'qu\\xc3\\xa9', b'es', b'un', b'intertexto', b'?\\xc2\\xbf', b'qu\\xc3\\xa9', b'es', b'resemantizar', b'?', b'a', b'veces', b'las', b'palabras', b'ya', b'no', b'significan', b'lo', b'mismo', b'que', b'antes', b',', b'las', b'frases', b'se', b'usan', b'con', b'un', b'sentido', b'que', b'antiguamente', b'no', b'ten\\xc3\\xadan', b',', b'se', b'busca', b'dar', b'\\xc3\\xa9nfasis', b'a', b'un', b'sentido', b'ya', b'existente', b'o', b'a', b'uno', b'nuevo', b'recuperado', b'.', b'victorino', b'zechetto', b'(2011)', b'define', b'as\\xc3\\xad', b'este', b'proceso', b'.', b'resemantizar', b'es', b'la', b'operaci\\xc3\\xb3n', b'de', b'transformar', b'el', b'sentido', b',', b'la', b'cual', b'tiene', b'varios', b'efectos', b':', b'a', b'veces', b'se', b'instala', b'por', b'la', b'p\\xc3\\xa9rdida', b'de', b'contenidos', b'sem\\xc3\\xa1nticos', b'de', b'un', b'determinado', b'lenguaje', b';', b'otras', b',', b'tiene', b'el', b'fin', b'de', b'recuperar', b'una', b'degradaci\\xc3\\xb3n', b'simb\\xc3\\xb3lica', b'o', b'm\\xc3\\xadtica', b',', b'o', b'es', b'un', b'intento', b'de', b'innovaci\\xc3\\xb3n', b'creativa', b'.', b'los', b'memes', b'participan', b'en', b'esta', b'operaci\\xc3\\xb3n', b'de', b'innovaci\\xc3\\xb3n', b'y', b'transformaci\\xc3\\xb3n', b'creativa', b'.1.', b'se', b'representa', b'la', b'pintura', b'de', b'edvard', b'munch', b',', b'pintado', b'en', b'1893,', b'llamada', b'el', b'grito', b',', b'con', b'el', b'rostro', b'modificado', b'.', b'el', b'rostro', b'es', b'del', b'futbolista', b'cristiano', b'ronaldo', b'con', b'un', b'gesto', b'que', b'realiz\\xc3\\xb3', b'cuando', b'gan\\xc3\\xb3', b'el', b'bal\\xc3\\xb3n', b'de', b'oro', b'en', b'el', b'a\\xc3\\xb1o', b'2014.', b'la', b'visi\\xc3\\xb3n', b'l\\xc3\\xb3brega', b'de', b'la', b'pintura', b',', b'con', b'trazos', b'sueltos', b'y', b'colores', b'oscuros', b',', b'que', b'para', b'muchos', b'significa', b'la', b'angustia', b'de', b'los', b'tiempos', b'modernos', b'es', b'resignificado', b'con', b'el', b'gesto', b'de', b'ronaldo', b',', b'que', b'se', b'jacta', b'al', b'conseguir', b'su', b'nuevo', b'galard\\xc3\\xb3n', b'.2.', b'en', b'este', b'caso', b'la', b'imagen', b'se', b'combina', b'con', b'una', b'descripci\\xc3\\xb3n', b'.', b'se', b'trata', b'de', b'una', b'imagen', b'secuencia', b'de', b'la', b'pel\\xc3\\xadcula', b'infinity', b'war', b'inspirado', b'en', b'el', b'c\\xc3\\xb3mic', b'avengers', b'de', b'marvel', b'en', b'la', b'que', b'se', b'aprecia', b'a', b'los', b'personajes', b':', b'capitan', b'america', b'con', b'pantera', b'negra', b'y', b'los', b'guerreros', b'del', b'pueblo', b'de', b'wakanda', b'.', b'la', b'descripci\\xc3\\xb3n', b'hace', b'alusi\\xc3\\xb3n', b'a', b'un', b'intertexto', b'impl\\xc3\\xadcito', b':', b'las', b'declaraciones', b'del', b'presidente', b'de', b'colombia', b',', b'ivan', b'duque', b',', b'sobre', b'un', b'presunto', b'apoyo', b'que', b'concedieron', b'los', b'\"', b'padres', b'de', b'la', b'patria', b'\"', b'de', b'los', b'estados', b'unidos', b'a', b'colombia', b'para', b'que', b'lograra', b'su', b'independencia', b'.', b'por', b'ello', b',', b'la', b'descripci\\xc3\\xb3n', b'menciona', b'al', b'puente', b'de', b'boyac\\xc3\\xa1', b'y', b'la', b'analog\\xc3\\xada', b'del', b'pueblo', b'de', b'wakanda', b'con', b'\"', b'esclavos', b'libres', b'de', b'san', b'basilio', b'de', b'palenque', b'\".', b'la', b'resemantizaci\\xc3\\xb3n', b'se', b'da', b'a', b'un', b'nivel', b'de', b'metaficci\\xc3\\xb3n', b',', b'donde', b'la', b'ficci\\xc3\\xb3n', b'se', b'acerca', b'a', b'la', b'realidad', b'hist\\xc3\\xb3rica', b',', b'transformando', b'al', b'meme', b',', b'mediante', b'la', b'distorsi\\xc3\\xb3n', b',', b'en', b'un', b'documento', b'par\\xc3\\xb3dico', b'.', b'podemos', b'considerar', b'un', b'meme', b'como', b'un', b'texto', b',', b'es', b'decir', b',', b'como', b'cualquier', b'cuento', b'o', b'novela', b'que', b'leemos', b':', b'\\xc3\\xa9ste', b'nos', b'describe', b'o', b'nos', b'narra', b'algo', b'.', b'pero', b'el', b'intertexto', b'es', b'una', b'relaci\\xc3\\xb3n', b'de', b'textos', b',', b'una', b'asociaci\\xc3\\xb3n', b'que', b'presupone', b'que', b'todo', b'texto', b'est\\xc3\\xa1', b'relacionado', b'con', b'otros', b'textos', b',', b'como', b'producto', b'de', b'una', b'red', b'de', b'significaci\\xc3\\xb3n', b'.', b'a', b'esa', b'red', b'la', b'llamamos', b'intertexto', b'.', b'el', b'intertexto', b',', b'entonces', b',', b'es', b'el', b'conjunto', b'de', b'textos', b'con', b'los', b'que', b'un', b'texto', b'cualquiera', b'est\\xc3\\xa1', b'relacionado', b'(', b'zavala', b',1999).', b'veamos', b'un', b'ejemplo', b'.1.', b'el', b'meme', b'asocia', b'un', b'capitulo', b'de', b'los', b'simpson', b'(', b'en', b'el', b'que', b'el', b'personaje', b'apu', b'se\\xc3\\xb1ala', b',', b'ante', b'una', b'corte', b',', b'que', b'homero', b'disimula', b'su', b'condici\\xc3\\xb3n', b'de', b'dormido', b'con', b'unos', b'anteojos', b'con', b'unos', b'ojos', b'dibujados', b'),', b'con', b'la', b'posici\\xc3\\xb3n', b'que', b'adopt\\xc3\\xb3', b'sergio', b'fajardo', b',', b'candidato', b'a', b'la', b'presidencia', b'en', b'2018,', b'en', b'un', b'debate', b'pol\\xc3\\xadtico', b'televisado', b'.', b'en', b'este', b'caso', b'la', b'relaci\\xc3\\xb3n', b'entre', b'ambos', b'textos', b'es', b'la', b'de', b'un', b'pastiche', b'.', b'texto', b'1\\xe2\\x86\\x92', b'capitulo', b'de', b'los', b'simpson', b'texto', b'2\\xe2\\x86\\x92', b'debate', b'presidencial', b'20182.', b'a', b'la', b'fotografia', b'de', b'ray', b'charles', b'y', b'steve', b'wonder', b'le', b'acompa\\xc3\\xb1a', b'la', b'frase', b'\"', b'qu\\xc3\\xa9date', b'con', b'quien', b'te', b'vea', b'como', b'...\".', b'esta', b'frase', b'expresa', b'una', b'orden', b'(', b'qu\\xc3\\xa9date', b'),', b'en', b'la', b'que', b'el', b'verbo', b'\\xc2\\xab', b'ver', b'\\xc2\\xbb', b'marca', b'la', b'iron\\xc3\\xada', b'.', b'el', b'texto', b'reenv\\xc3\\xada', b'a', b'un', b'hecho', b'conocido', b'y', b'mostrado', b'por', b'la', b'fotograf\\xc3\\xada', b':', b'los', b'dos', b'm\\xc3\\xbasicos', b'son', b'ciegos', b'.', b'sin', b'el', b'reenv\\xc3\\xado', b'a', b'este', b'hecho', b'(', b'texto', b'1)', b'no', b'se', b'comprende', b'la', b'referencia', b'.', b'texto', b'1\\xe2\\x86\\x92', b'm\\xc3\\xbasicos', b'ciegos', b'texto', b'2\\xe2\\x86\\x92', b'orden', b'con', b'el', b'verbo', b'\\xc2\\xab', b'ver', b'\\xc2\\xbb\\xc2\\xa1', b'en', b'los', b'dos', b'ejemplos', b',', b'la', b'iron\\xc3\\xada', b'y', b'el', b'pastiche', b'son', b'el', b'tipo', b'de', b'relaci\\xc3\\xb3n', b'de', b'los', b'memes', b'con', b'sus', b'intertextos', b'correspondientes', b'!', b'entonces', b',\\xc2\\xbf', b'por', b'qu\\xc3\\xa9', b'son', b'virales', b'?', b'haz', b'clic', b'para', b'saberlo', b'-', b'oye', b',', b'pero', b',\\xc2\\xbf', b'y', b'eso', b'qu\\xc3\\xa9', b'tiene', b'que', b'ver', b'con', b'los', b'memes', b'?-', b'tiene', b'qu\\xc3\\xa9', b'ver', b',\\xc2\\xa1', b'y', b'mucho', b'!.', b'adem\\xc3\\xa1s', b'de', b'la', b'identificaci\\xc3\\xb3n', b'de', b'referencias', b'entre', b'textos', b'y', b'los', b'nuevos', b'sentidos', b',', b'el', b'producir', b'memes', b'lo', b'puede', b'hacer', b'cualquier', b'persona', b'.', b'esta', b'producci\\xc3\\xb3n', b'se', b'facilita', b'con', b'la', b'tecnolog\\xc3\\xada', b'digital', b'.-\\xc2\\xbf', b'por', b'qu\\xc3\\xa9', b'?-', b'porque', b'esta', b'tecnolog\\xc3\\xada', b'garantiza', b'el', b'almacenamiento', b'de', b'contenidos', b'(', b'libros', b',', b'peliculas', b',', b'imagenes', b',', b'etc', b'.)', b'de', b'manera', b'm\\xc3\\xa1s', b'sencilla', b'y', b'posibilita', b'la', b'replicaci\\xc3\\xb3n', b'con', b'una', b'mayor', b'velocidad', b'.', b'as\\xc3\\xad', b',', b'la', b'participaci\\xc3\\xb3n', b'generada', b'alrededor', b'de', b'estos', b'contenidos', b'promueve', b'la', b'socializaci\\xc3\\xb3n', b'(', b'que', b'no', b'es', b'otra', b'cosa', b'que', b'compartir', b'con', b'los', b'dem\\xc3\\xa1s', b').-', b'yo', b'siempre', b'comparto', b'memes', b'porque', b'me', b'dan', b'risa', b'.\\xc2\\xbf', b'es', b'solo', b'porque', b'guardan', b'muchas', b'referencias', b'y', b'nuevos', b'sentidos', b'?-', b'no', b'.', b'la', b'intertextualidad', b'y', b'la', b'resemantizaci\\xc3\\xb3n', b'pueden', b'ir', b'de', b'la', b'mano', b'en', b'el', b'camino', b'hacia', b'la', b'viralizaci\\xc3\\xb3n', b'de', b'contenidos', b'.', b'sin', b'embargo', b',', b'son', b'solo', b'dos', b'mecanismos', b'para', b'la', b'apropiaci\\xc3\\xb3n', b'y', b'recreaci\\xc3\\xb3n', b'de', b'contenidos', b'ajenos', b'.-', b'de', b'tal', b'manera', b'que', b'si', b'un', b'intertexto', b'reenv\\xc3\\xada', b'a', b'otros', b'textos', b'involucrando', b'referencias', b'culturales', b'y', b'la', b'resemantizaci\\xc3\\xb3n', b'hace', b'de', b'los', b'textos', b'absorciones', b'y', b'transformaciones', b',', b'la', b'reiterada', b'propagaci\\xc3\\xb3n', b'de', b'memes', b'est\\xc3\\xa1', b'asegurada', b'.-', b'oh', b'!-\\xc2\\xa1', b'y', b'poco', b'a', b'poco', b'nos', b'vamos', b'todos', b'contagiando', b'!', b'la', b'conversaci\\xc3\\xb3n', b'ha', b'terminado', b'instrucciones', b'debe', b'buscar', b'las', b'letras', b'que', b'conforman', b'la', b'palabra', b'ubicada', b'en', b'la', b'parte', b'superior', b'del', b'tablero', b'.', b'haga', b'clic', b'sobre', b'cada', b'letra', b'hasta', b'completar', b'la', b'palabra', b'.', b'recuerde', b'que', b'cuenta', b'con', b'un', b'tiempo', b'limitado', b'para', b'encontrar', b'las', b'letras', b'.', b'si', b'el', b'tiempo', b'termina', b',', b'deber\\xc3\\xa1', b'volver', b'a', b'iniciar', b'el', b'juego', b'.', b'aqu\\xc3\\xad', b'tienes', b'unos', b'memes', b'para', b'poner', b'a', b'prueba', b'los', b'conceptos', b'que', b'aprendiste', b'.\\xc2\\xbf', b'qu\\xc3\\xa9', b'referencias', b'guardan', b'?,\\xc2\\xbf', b'qu\\xc3\\xa9', b'nuevos', b'significados', b'hay', b'?,\\xc2\\xbf', b'con', b'qu\\xc3\\xa9', b'otro', b'meme', b'podr\\xc3\\xadas', b'responder', b'?\\xc2\\xa1', b'ya', b'conoces', b'c\\xc3\\xb3mo', b'puedes', b'hacer', b'un', b'meme', b',\\xc2\\xa1', b'juega', b'con', b'las', b'referencias', b'para', b'decir', b'algo', b'nuevo', b'y', b'hazte', b'un', b'meme', b'con', b'el', b'hashtag', b'!\\xc2\\xbf', b'qu\\xc3\\xa9', b'es', b'la', b'transmisi\\xc3\\xb3n', b'cultural', b'?', b'un', b'tipo', b'de', b'meme', b'una', b'figura', b'ret\\xc3\\xb3rica', b'que', b'consiste', b'en', b'dar', b'a', b'entender', b'lo', b'contrario', b'de', b'lo', b'que', b'se', b'expresa', b'.', b'la', b'p\\xc3\\xa9rdida', b'de', b'contenidos', b'sem\\xc3\\xa1nticos', b'de', b'un', b'determinado', b'lenguaje', b'proceso', b'por', b'el', b'cual', b'la', b'cultura', b'acumulada', b'es', b'transferida', b'de', b'generaci\\xc3\\xb3n', b'en', b'generaci\\xc3\\xb3n', b'seg\\xc3\\xban', b'lo', b'aprendido', b',\\xc2\\xbf', b'por', b'qu\\xc3\\xa9', b'los', b'memes', b'son', b'virales', b'?', b'\\xc3\\xbanicamente', b'porque', b'la', b'intertextualidad', b'produce', b'la', b'replicaci\\xc3\\xb3n', b'\\xc3\\xbanicamente', b'porque', b'los', b'memes', b'recrean', b'nuevos', b'significados', b'porque', b'en', b'la', b'replicaci\\xc3\\xb3n', b'pueden', b'involucrarse', b'la', b'intertextualidad', b'y', b'la', b'resemantizaci\\xc3\\xb3n', b'porque', b'act\\xc3\\xbaan', b'como', b'g\\xc3\\xa9rmenes', b'la', b'intertextualidad', b'y', b'la', b'resemantizaci\\xc3\\xb3n', b'son', b'solo', b'dos', b'mecanismos', b'que', b'pueden', b'ir', b'de', b'la', b'mano', b'hacia', b'la', b'viralizaci\\xc3\\xb3n', b'de', b'contenidos', b'la', b'resemantizaci\\xc3\\xb3n', b'es', b'la', b'operaci\\xc3\\xb3n', b'de', b'transformar', b'el', b'sentido', b'de', b'una', b'palabra', b',', b'frase', b',', b'imagen', b'u', b'obra', b'literaria', b'el', b'intertexto', b'es', b'una', b'relaci\\xc3\\xb3n', b'entre', b'al', b'menos', b'dos', b'textos', b'asociados', b'en', b'una', b'red', b'de', b'significaci\\xc3\\xb3n']\n"
          ]
        }
      ]
    },
    {
      "cell_type": "markdown",
      "source": [
        "Asignar un índice a cada token y guardar en un diccionario un único valor"
      ],
      "metadata": {
        "id": "BLm3KVSTwguh"
      }
    },
    {
      "cell_type": "code",
      "source": [
        "vocab_index = {k:v for v,k in enumerate(set(l_tokens))}\n",
        "print(vocab_index)\n",
        "\n",
        "vocab_count = {k:v for k,v in zip(Counter(l_tokens).keys(), Counter(l_tokens).values())}\n",
        "print(vocab_count)"
      ],
      "metadata": {
        "colab": {
          "base_uri": "https://localhost:8080/"
        },
        "id": "LmC25O2Hwqhn",
        "outputId": "b0bbbea2-b105-411a-8ab6-a19c4f4eebb0"
      },
      "execution_count": 9,
      "outputs": [
        {
          "output_type": "stream",
          "name": "stdout",
          "text": [
            "{b'velocidad': 0, b'son': 1, b'culturales': 2, b'entre': 3, b'...\".': 4, b'aprendido': 5, b'tiempos': 6, b'sentido': 7, b'cultura': 8, b'ivan': 9, b'unidos': 10, b'vamos': 11, b'anteojos': 12, b'candidato': 13, b'ret\\xc3\\xb3rica': 14, b'navega': 15, b'g\\xc3\\xa9rmenes': 16, b'red': 17, b'victorino': 18, b'\\xc2\\xab': 19, b'haga': 20, b'define': 21, b'ejemplo': 22, b'condici\\xc3\\xb3n': 23, b'encontrar': 24, b'las': 25, b'facilita': 26, b'estos': 27, b'.-\\xc2\\xbf': 28, b'porque': 29, b'ello': 30, b'hacia': 31, b'resemantizaci\\xc3\\xb3n': 32, b'comprende': 33, b').-': 34, b'tablero': 35, b'aprecia': 36, b'orden': 37, b'saberlo': 38, b'involucrarse': 39, b'existente': 40, b'fotografia': 41, b'quien': 42, b'patria': 43, b'colores': 44, b'caracter\\xc3\\xadstica': 45, b'peliculas': 46, b'referencias': 47, b'efectos': 48, b'oh': 49, b'iniciar': 50, b'hecho': 51, b'simpson': 52, b'!-\\xc2\\xa1': 53, b'1\\xe2\\x86\\x92': 54, b';': 55, b'comparto': 56, b'oro': 57, b'simb\\xc3\\xb3lica': 58, b'dem\\xc3\\xa1s': 59, b'otros': 60, b'pintado': 61, b'surge': 62, b'estados': 63, b'letra': 64, b'significados': 65, b'almacenamiento': 66, b'asociados': 67, b'redes': 68, b'libros': 69, b'variedad': 70, b'busca': 71, b'combina': 72, b'cuenta': 73, b'novela': 74, b'\\xc2\\xbb\\xc2\\xa1': 75, b'nuevo': 76, b'tienes': 77, b'unos': 78, b':': 79, b'edvard': 80, b'termina': 81, b'guerreros': 82, b'hashtag': 83, b'podr\\xc3\\xadas': 84, b'mundo': 85, b'dos': 86, b'.-': 87, b'\\xc2\\xbb': 88, b'),': 89, b'hist\\xc3\\xb3rica': 90, b'significaci\\xc3\\xb3n': 91, b'etc': 92, b'trata': 93, b'visi\\xc3\\xb3n': 94, b',1999).': 95, b'asociaci\\xc3\\xb3n': 96, b'pueblo': 97, b'presupone': 98, b'absorciones': 99, b'seg\\xc3\\xban': 100, b'y': 101, b'modernos': 102, b'transferida': 103, b'impl\\xc3\\xadcito': 104, b'yo': 105, b'decir': 106, b'\\xc3\\xa9nfasis': 107, b'adopt\\xc3\\xb3': 108, b'cristiano': 109, b'o': 110, b'ray': 111, b'algunos': 112, b'podemos': 113, b'recreaci\\xc3\\xb3n': 114, b'cuando': 115, b'pintura': 116, b'veamos': 117, b'garantiza': 118, b'?\\xc2\\xbf': 119, b'2014.': 120, b'ronaldo': 121, b'transmisi\\xc3\\xb3n': 122, b'pueden': 123, b'p\\xc3\\xa9rdida': 124, b'nos': 125, b'reiterada': 126, b'cual': 127, b'documento': 128, b'llamada': 129, b'hasta': 130, b'veces': 131, b'pastiche': 132, b'que': 133, b'fotograf\\xc3\\xada': 134, b'mayor': 135, b'letras': 136, b'te': 137, b'no': 138, b'internet': 139, b'volver': 140, b'ellas': 141, b'\\xc3\\xbanicamente': 142, b'2\\xe2\\x86\\x92': 143, b'participaci\\xc3\\xb3n': 144, b'a\\xc3\\xb1o': 145, b'muchos': 146, b'a': 147, b'reenv\\xc3\\xado': 148, b'transformaciones': 149, b'!.': 150, b'antes': 151, b'menciona': 152, b'transformaci\\xc3\\xb3n': 153, b'asocia': 154, b'la': 155, b'uso': 156, b'nivel': 157, b'iron\\xc3\\xada': 158, b'jacta': 159, b'camino': 160, b'otras': 161, b'significa': 162, b'avengers': 163, b'viralizaci\\xc3\\xb3n': 164, b'televisado': 165, b'puede': 166, b'20182.': 167, b'cosa': 168, b'intento': 169, b'concedieron': 170, b'guardan': 171, b'lo': 172, b'reproducido': 173, b'conjunto': 174, b'generada': 175, b'del': 176, b'aqu\\xc3\\xad': 177, b'se': 178, b'compartir': 179, b'instala': 180, b'alrededor': 181, b'homero': 182, b'qu\\xc3\\xa9date': 183, b'replicaci\\xc3\\xb3n': 184, b'adem\\xc3\\xa1s': 185, b'tipo': 186, b'colombia': 187, b'hazte': 188, b'los': 189, b'libres': 190, b'le': 191, b'involucrando': 192, b'obra': 193, b'me': 194, b'viral': 195, b'trazos': 196, b'recuerde': 197, b'siempre': 198, b'produce': 199, b'contrario': 200, b'grito': 201, b'2018,': 202, b'haz': 203, b'personajes': 204, b'juega': 205, b'ciegos': 206, b'actividades': 207, b'?-': 208, b'referencia': 209, b'!\\xc2\\xbf': 210, b'act\\xc3\\xbaan': 211, b'apoyo': 212, b'conseguir': 213, b'hacer': 214, b'realizar': 215, b'conceptos': 216, b'palabra': 217, b'pero': 218, b'qu\\xc3\\xa9': 219, b'wonder': 220, b'palabras': 221, b'tiene': 222, b'resemantizar': 223, b'recursos': 224, b'textos': 225, b'leemos': 226, b'(': 227, b'poco': 228, b'cualquier': 229, b'terminado': 230, b'digital': 231, b'degradaci\\xc3\\xb3n': 232, b',': 233, b'marca': 234, b'literaria': 235, b'representa': 236, b'operaci\\xc3\\xb3n': 237, b'vea': 238, b'todos': 239, b'verbo': 240, b'introducci\\xc3\\xb3n': 241, b'fen\\xc3\\xb3meno': 242, b'solo': 243, b'galard\\xc3\\xb3n': 244, b'reenv\\xc3\\xada': 245, b',\\xc2\\xbf': 246, b'portadores': 247, b'duque': 248, b'figura': 249, b'participan': 250, b'palenque': 251, b'cada': 252, b'lograra': 253, b'parte': 254, b'apropiaci\\xc3\\xb3n': 255, b'?\\xc2\\xa1': 256, b'manera': 257, b'debe': 258, b'clic': 259, b'virales': 260, b'conversaci\\xc3\\xb3n': 261, b'medios': 262, b'memes': 263, b'como': 264, b'puente': 265, b'persona': 266, b'si': 267, b'\".': 268, b'se\\xc3\\xb1ala': 269, b'conoces': 270, b'fin': 271, b'socializaci\\xc3\\xb3n': 272, b'presidencial': 273, b'superior': 274, b'todo': 275, b'opinar': 276, b'ten\\xc3\\xadan': 277, b'posici\\xc3\\xb3n': 278, b'lenguaje': 279, b'futbolista': 280, b'componen': 281, b'.\\xc2\\xbf': 282, b'.)': 283, b'considerar': 284, b'su': 285, b'poner': 286, b'recuperado': 287, b'intertexto': 288, b'creativa': 289, b'imagen': 290, b'esta': 291, b'varios': 292, b'identificaci\\xc3\\xb3n': 293, b'relacionado': 294, b'infinity': 295, b'acompa\\xc3\\xb1a': 296, b'entonces': 297, b'l\\xc3\\xb3brega': 298, b'tal': 299, b'embargo': 300, b'proceso': 301, b'cultural': 302, b'presidencia': 303, b'modificado': 304, b'c\\xc3\\xb3mo': 305, b'ver': 306, b'para': 307, b'entender': 308, b'corte': 309, b'ficci\\xc3\\xb3n': 310, b'dan': 311, b'definiciones': 312, b'pantera': 313, b'steve': 314, b'?': 315, b'asegurada': 316, b'sencilla': 317, b'mecanismos': 318, b'alusi\\xc3\\xb3n': 319, b'buscar': 320, b'responder': 321, b'socializar': 322, b'deber\\xc3\\xa1': 323, b'eso': 324, b'declaraciones': 325, b'ubicada': 326, b'el': 327, b'independencia': 328, b'ejemplos': 329, b'u': 330, b'negra': 331, b'promueve': 332, b'generaci\\xc3\\xb3n': 333, b'marvel': 334, b'oscuros': 335, b'\\xc3\\xadndice': 336, b'innovaci\\xc3\\xb3n': 337, b'charles': 338, b'wakanda': 339, b'war': 340, b'1)': 341, b'angustia': 342, b'analog\\xc3\\xada': 343, b'presunto': 344, b'frase': 345, b'diversos': 346, b'!': 347, b'inspirado': 348, b'?,\\xc2\\xbf': 349, b'presidente': 350, b'relaci\\xc3\\xb3n': 351, b'expresa': 352, b'uno': 353, b'conocido': 354, b'mucho': 355, b'posibilita': 356, b'propagaci\\xc3\\xb3n': 357, b'comunicativos': 358, b'aprender': 359, b'texto': 360, b'personaje': 361, b'aprendiste': 362, b'contenidos': 363, b'entretener': 364, b'descripci\\xc3\\xb3n': 365, b'producir': 366, b'un': 367, b'est\\xc3\\xa1': 368, b'disimula': 369, b'(2011)': 370, b'provocado': 371, b'nuevos': 372, b'intertextos': 373, b'apu': 374, b'pol\\xc3\\xadtico': 375, b'conforman': 376, b'de': 377, b'.2.': 378, b'proliferaci\\xc3\\xb3n': 379, b'sergio': 380, b'ha': 381, b'zavala': 382, b'limitado': 383, b'recuperar': 384, b'basilio': 385, b'acerca': 386, b'bal\\xc3\\xb3n': 387, b'usan': 388, b'por': 389, b'acumulada': 390, b'resignificado': 391, b'ojos': 392, b'tecnolog\\xc3\\xada': 393, b'curso': 394, b'sueltos': 395, b'mostrado': 396, b'determinado': 397, b'secuencia': 398, b'gan\\xc3\\xb3': 399, b'capitulo': 400, b'par\\xc3\\xb3dico': 401, b'c\\xc3\\xb3mic': 402, b'mismo': 403, b'frases': 404, b'san': 405, b'contagiando': 406, b'meme': 407, b'intertextualidad': 408, b'tienen': 409, b'mediante': 410, b'padres': 411, b'recrean': 412, b'sem\\xc3\\xa1nticos': 413, b'da': 414, b'-': 415, b'rostro': 416, b'ajenos': 417, b'instrucciones': 418, b'm\\xc3\\xbasicos': 419, b'm\\xc3\\xa1s': 420, b'imagenes': 421, b'mano': 422, b'.': 423, b'sus': 424, b'caracteriza': 425, b'puedes': 426, b'risa': 427, b'as\\xc3\\xad': 428, b'realiz\\xc3\\xb3': 429, b'm\\xc3\\xadtica': 430, b'\\xc3\\xa9ste': 431, b'es': 432, b'antiguamente': 433, b'hay': 434, b'otra': 435, b'podr\\xc3\\xa1s': 436, b'debate': 437, b'secciones': 438, b'oye': 439, b'\"': 440, b'distorsi\\xc3\\xb3n': 441, b'consiste': 442, b'narra': 443, b'muchas': 444, b'producci\\xc3\\xb3n': 445, b'transformar': 446, b'encontraras': 447, b'transformando': 448, b'ya': 449, b',\\xc2\\xa1': 450, b'objetivos': 451, b'caso': 452, b'realidad': 453, b'pel\\xc3\\xadcula': 454, b'significado': 455, b'significan': 456, b'esa': 457, b'donde': 458, b'en': 459, b'juego': 460, b'zechetto': 461, b'sin': 462, b'otro': 463, b'fajardo': 464, b'munch': 465, b'boyac\\xc3\\xa1': 466, b'ir': 467, b'este': 468, b'producto': 469, b'capitan': 470, b'dar': 471, b'completar': 472, b'al': 473, b'masificado': 474, b'sobre': 475, b'vuelve': 476, b'prueba': 477, b'dormido': 478, b'aprender\\xc3\\xa1s': 479, b'describe': 480, b'hace': 481, b'correspondientes': 482, b'una': 483, b'creativo': 484, b'gesto': 485, b'dibujados': 486, b'cualquiera': 487, b'ambos': 488, b'tiempo': 489, b'usuarios': 490, b'.1.': 491, b'cuento': 492, b'esclavos': 493, b'metaficci\\xc3\\xb3n': 494, b'cuestionario': 495, b'sentidos': 496, b'menos': 497, b'con': 498, b'america': 499, b'ante': 500, b'nacimiento': 501, b'algo': 502, b'llamamos': 503, b'1893,': 504}\n",
            "{b'introducci\\xc3\\xb3n': 1, b'la': 63, b'proliferaci\\xc3\\xb3n': 1, b'del': 7, b'uso': 1, b'de': 61, b'internet': 1, b'ha': 2, b'provocado': 1, b'el': 34, b'nacimiento': 1, b'diversos': 1, b'medios': 1, b',': 43, b'redes': 1, b'y': 26, b'recursos': 2, b'que': 29, b'tienen': 1, b'por': 12, b'fin': 2, b'entretener': 1, b'socializar': 1, b'u': 2, b'opinar': 1, b'.': 30, b'entre': 4, b'variedad': 1, b'comunicativos': 1, b'portadores': 1, b'significado': 1, b'surge': 1, b'meme': 10, b'fen\\xc3\\xb3meno': 1, b'creativo': 1, b'es': 17, b'masificado': 1, b'reproducido': 1, b'usuarios': 1, b'alrededor': 2, b'mundo': 1, b'as\\xc3\\xad': 3, b'tiene': 5, b'como': 6, b'caracter\\xc3\\xadstica': 1, b'replicaci\\xc3\\xb3n': 4, b'.\\xc2\\xbf': 4, b'qu\\xc3\\xa9': 14, b'?': 5, b'objetivos': 1, b'en': 21, b'este': 7, b'curso': 2, b'aprender\\xc3\\xa1s': 1, b'los': 21, b'conceptos': 3, b'intertextualidad': 5, b'resemantizaci\\xc3\\xb3n': 7, b'para': 10, b'entender': 2, b'caracteriza': 1, b'a': 21, b'un': 25, b'se': 14, b'vuelve': 1, b'viral': 1, b'\\xc3\\xadndice': 2, b'encontraras': 1, b'las': 9, b'secciones': 1, b'componen': 1, b'navega': 1, b'ellas': 1, b'aprender': 1, b'definiciones': 1, b'ver': 5, b'algunos': 1, b'ejemplos': 2, b'adem\\xc3\\xa1s': 2, b'podr\\xc3\\xa1s': 1, b'realizar': 1, b'actividades': 1, b'cuestionario': 1, b'poner': 2, b'prueba': 2, b'lo': 6, b'aprendido': 2, b'intertexto': 7, b'?\\xc2\\xbf': 1, b'resemantizar': 2, b'veces': 2, b'palabras': 1, b'ya': 3, b'no': 5, b'significan': 1, b'mismo': 1, b'antes': 1, b'frases': 1, b'usan': 1, b'con': 24, b'sentido': 4, b'antiguamente': 1, b'ten\\xc3\\xadan': 1, b'busca': 1, b'dar': 2, b'\\xc3\\xa9nfasis': 1, b'existente': 1, b'o': 5, b'uno': 1, b'nuevo': 3, b'recuperado': 1, b'victorino': 1, b'zechetto': 1, b'(2011)': 1, b'define': 1, b'proceso': 2, b'operaci\\xc3\\xb3n': 3, b'transformar': 2, b'cual': 2, b'varios': 1, b'efectos': 1, b':': 5, b'instala': 1, b'p\\xc3\\xa9rdida': 2, b'contenidos': 7, b'sem\\xc3\\xa1nticos': 2, b'determinado': 2, b'lenguaje': 2, b';': 1, b'otras': 1, b'recuperar': 1, b'una': 13, b'degradaci\\xc3\\xb3n': 1, b'simb\\xc3\\xb3lica': 1, b'm\\xc3\\xadtica': 1, b'intento': 1, b'innovaci\\xc3\\xb3n': 2, b'creativa': 2, b'memes': 9, b'participan': 1, b'esta': 4, b'transformaci\\xc3\\xb3n': 1, b'.1.': 2, b'representa': 1, b'pintura': 2, b'edvard': 1, b'munch': 1, b'pintado': 1, b'1893,': 1, b'llamada': 1, b'grito': 1, b'rostro': 2, b'modificado': 1, b'futbolista': 1, b'cristiano': 1, b'ronaldo': 2, b'gesto': 2, b'realiz\\xc3\\xb3': 1, b'cuando': 1, b'gan\\xc3\\xb3': 1, b'bal\\xc3\\xb3n': 1, b'oro': 1, b'a\\xc3\\xb1o': 1, b'2014.': 1, b'visi\\xc3\\xb3n': 1, b'l\\xc3\\xb3brega': 1, b'trazos': 1, b'sueltos': 1, b'colores': 1, b'oscuros': 1, b'muchos': 1, b'significa': 1, b'angustia': 1, b'tiempos': 1, b'modernos': 1, b'resignificado': 1, b'jacta': 1, b'al': 4, b'conseguir': 1, b'su': 3, b'galard\\xc3\\xb3n': 1, b'.2.': 1, b'caso': 2, b'imagen': 3, b'combina': 1, b'descripci\\xc3\\xb3n': 3, b'trata': 1, b'secuencia': 1, b'pel\\xc3\\xadcula': 1, b'infinity': 1, b'war': 1, b'inspirado': 1, b'c\\xc3\\xb3mic': 1, b'avengers': 1, b'marvel': 1, b'aprecia': 1, b'personajes': 1, b'capitan': 1, b'america': 1, b'pantera': 1, b'negra': 1, b'guerreros': 1, b'pueblo': 2, b'wakanda': 2, b'hace': 2, b'alusi\\xc3\\xb3n': 1, b'impl\\xc3\\xadcito': 1, b'declaraciones': 1, b'presidente': 1, b'colombia': 2, b'ivan': 1, b'duque': 1, b'sobre': 2, b'presunto': 1, b'apoyo': 1, b'concedieron': 1, b'\"': 4, b'padres': 1, b'patria': 1, b'estados': 1, b'unidos': 1, b'lograra': 1, b'independencia': 1, b'ello': 1, b'menciona': 1, b'puente': 1, b'boyac\\xc3\\xa1': 1, b'analog\\xc3\\xada': 1, b'esclavos': 1, b'libres': 1, b'san': 1, b'basilio': 1, b'palenque': 1, b'\".': 1, b'da': 1, b'nivel': 1, b'metaficci\\xc3\\xb3n': 1, b'donde': 1, b'ficci\\xc3\\xb3n': 1, b'acerca': 1, b'realidad': 1, b'hist\\xc3\\xb3rica': 1, b'transformando': 1, b'mediante': 1, b'distorsi\\xc3\\xb3n': 1, b'documento': 1, b'par\\xc3\\xb3dico': 1, b'podemos': 1, b'considerar': 1, b'texto': 9, b'decir': 2, b'cualquier': 2, b'cuento': 1, b'novela': 1, b'leemos': 1, b'\\xc3\\xa9ste': 1, b'nos': 3, b'describe': 1, b'narra': 1, b'algo': 2, b'pero': 2, b'relaci\\xc3\\xb3n': 4, b'textos': 8, b'asociaci\\xc3\\xb3n': 1, b'presupone': 1, b'todo': 1, b'est\\xc3\\xa1': 3, b'relacionado': 2, b'otros': 2, b'producto': 1, b'red': 3, b'significaci\\xc3\\xb3n': 2, b'esa': 1, b'llamamos': 1, b'entonces': 2, b'conjunto': 1, b'cualquiera': 1, b'(': 6, b'zavala': 1, b',1999).': 1, b'veamos': 1, b'ejemplo': 1, b'asocia': 1, b'capitulo': 2, b'simpson': 2, b'personaje': 1, b'apu': 1, b'se\\xc3\\xb1ala': 1, b'ante': 1, b'corte': 1, b'homero': 1, b'disimula': 1, b'condici\\xc3\\xb3n': 1, b'dormido': 1, b'unos': 3, b'anteojos': 1, b'ojos': 1, b'dibujados': 1, b'),': 2, b'posici\\xc3\\xb3n': 1, b'adopt\\xc3\\xb3': 1, b'sergio': 1, b'fajardo': 1, b'candidato': 1, b'presidencia': 1, b'2018,': 1, b'debate': 2, b'pol\\xc3\\xadtico': 1, b'televisado': 1, b'ambos': 1, b'pastiche': 2, b'1\\xe2\\x86\\x92': 2, b'2\\xe2\\x86\\x92': 2, b'presidencial': 1, b'20182.': 1, b'fotografia': 1, b'ray': 1, b'charles': 1, b'steve': 1, b'wonder': 1, b'le': 1, b'acompa\\xc3\\xb1a': 1, b'frase': 3, b'qu\\xc3\\xa9date': 2, b'quien': 1, b'te': 1, b'vea': 1, b'...\".': 1, b'expresa': 2, b'orden': 2, b'verbo': 2, b'\\xc2\\xab': 2, b'\\xc2\\xbb': 1, b'marca': 1, b'iron\\xc3\\xada': 2, b'reenv\\xc3\\xada': 2, b'hecho': 2, b'conocido': 1, b'mostrado': 1, b'fotograf\\xc3\\xada': 1, b'dos': 5, b'm\\xc3\\xbasicos': 2, b'son': 6, b'ciegos': 2, b'sin': 2, b'reenv\\xc3\\xado': 1, b'1)': 1, b'comprende': 1, b'referencia': 1, b'\\xc2\\xbb\\xc2\\xa1': 1, b'tipo': 2, b'sus': 1, b'intertextos': 1, b'correspondientes': 1, b'!': 2, b',\\xc2\\xbf': 3, b'virales': 2, b'haz': 1, b'clic': 2, b'saberlo': 1, b'-': 1, b'oye': 1, b'eso': 1, b'?-': 3, b',\\xc2\\xa1': 2, b'mucho': 1, b'!.': 1, b'identificaci\\xc3\\xb3n': 1, b'referencias': 5, b'nuevos': 4, b'sentidos': 2, b'producir': 1, b'puede': 1, b'hacer': 2, b'persona': 1, b'producci\\xc3\\xb3n': 1, b'facilita': 1, b'tecnolog\\xc3\\xada': 2, b'digital': 1, b'.-\\xc2\\xbf': 1, b'porque': 7, b'garantiza': 1, b'almacenamiento': 1, b'libros': 1, b'peliculas': 1, b'imagenes': 1, b'etc': 1, b'.)': 1, b'manera': 2, b'm\\xc3\\xa1s': 1, b'sencilla': 1, b'posibilita': 1, b'mayor': 1, b'velocidad': 1, b'participaci\\xc3\\xb3n': 1, b'generada': 1, b'estos': 1, b'promueve': 1, b'socializaci\\xc3\\xb3n': 1, b'otra': 1, b'cosa': 1, b'compartir': 1, b'dem\\xc3\\xa1s': 1, b').-': 1, b'yo': 1, b'siempre': 1, b'comparto': 1, b'me': 1, b'dan': 1, b'risa': 1, b'solo': 3, b'guardan': 2, b'muchas': 1, b'pueden': 3, b'ir': 2, b'mano': 2, b'camino': 1, b'hacia': 2, b'viralizaci\\xc3\\xb3n': 2, b'embargo': 1, b'mecanismos': 2, b'apropiaci\\xc3\\xb3n': 1, b'recreaci\\xc3\\xb3n': 1, b'ajenos': 1, b'.-': 2, b'tal': 1, b'si': 2, b'involucrando': 1, b'culturales': 1, b'absorciones': 1, b'transformaciones': 1, b'reiterada': 1, b'propagaci\\xc3\\xb3n': 1, b'asegurada': 1, b'oh': 1, b'!-\\xc2\\xa1': 1, b'poco': 2, b'vamos': 1, b'todos': 1, b'contagiando': 1, b'conversaci\\xc3\\xb3n': 1, b'terminado': 1, b'instrucciones': 1, b'debe': 1, b'buscar': 1, b'letras': 2, b'conforman': 1, b'palabra': 3, b'ubicada': 1, b'parte': 1, b'superior': 1, b'tablero': 1, b'haga': 1, b'cada': 1, b'letra': 1, b'hasta': 1, b'completar': 1, b'recuerde': 1, b'cuenta': 1, b'tiempo': 2, b'limitado': 1, b'encontrar': 1, b'termina': 1, b'deber\\xc3\\xa1': 1, b'volver': 1, b'iniciar': 1, b'juego': 1, b'aqu\\xc3\\xad': 1, b'tienes': 1, b'aprendiste': 1, b'?,\\xc2\\xbf': 2, b'significados': 2, b'hay': 1, b'otro': 1, b'podr\\xc3\\xadas': 1, b'responder': 1, b'?\\xc2\\xa1': 1, b'conoces': 1, b'c\\xc3\\xb3mo': 1, b'puedes': 1, b'juega': 1, b'hazte': 1, b'hashtag': 1, b'!\\xc2\\xbf': 1, b'transmisi\\xc3\\xb3n': 1, b'cultural': 1, b'figura': 1, b'ret\\xc3\\xb3rica': 1, b'consiste': 1, b'contrario': 1, b'cultura': 1, b'acumulada': 1, b'transferida': 1, b'generaci\\xc3\\xb3n': 2, b'seg\\xc3\\xban': 1, b'\\xc3\\xbanicamente': 2, b'produce': 1, b'recrean': 1, b'involucrarse': 1, b'act\\xc3\\xbaan': 1, b'g\\xc3\\xa9rmenes': 1, b'obra': 1, b'literaria': 1, b'menos': 1, b'asociados': 1}\n"
          ]
        }
      ]
    },
    {
      "cell_type": "code",
      "source": [
        "print(len(vocab_index))\n",
        "print(len(vocab_count))"
      ],
      "metadata": {
        "colab": {
          "base_uri": "https://localhost:8080/"
        },
        "id": "1QXGy-V9_1OF",
        "outputId": "6afa2679-1916-48c5-a803-7c1d4ffc5223"
      },
      "execution_count": 33,
      "outputs": [
        {
          "output_type": "stream",
          "name": "stdout",
          "text": [
            "505\n",
            "505\n"
          ]
        }
      ]
    },
    {
      "cell_type": "markdown",
      "source": [
        "### Alternative approach with `Keras`"
      ],
      "metadata": {
        "id": "hh91_dRxzGdt"
      }
    },
    {
      "cell_type": "code",
      "source": [
        "from tensorflow.python.types.doc_typealias import document\n",
        "# print(text_init[:100])\n",
        "from keras.preprocessing.text import Tokenizer\n",
        "tokenizer = Tokenizer(\n",
        "    num_words=None, filters= '!\"#$%&()*+,-./:;<=>?@[\\\\]^_`{|}~\\t\\n', lower=True,\n",
        "    split=' ', char_level=False, oov_token=None, document_count=0\n",
        ")\n",
        "\n",
        "tokenizer.fit_on_texts([text_init])\n",
        "word_id = tokenizer.word_index\n",
        "print('word index: ', word_id)"
      ],
      "metadata": {
        "colab": {
          "base_uri": "https://localhost:8080/"
        },
        "id": "06v1vuRnzMEo",
        "outputId": "2c293021-d1ec-49ec-fbe3-e799f2948f1a"
      },
      "execution_count": 30,
      "outputs": [
        {
          "output_type": "stream",
          "name": "stdout",
          "text": [
            "word index:  {'la': 1, 'de': 2, 'el': 3, 'que': 4, 'un': 5, 'y': 6, 'con': 7, 'los': 8, 'a': 9, 'en': 10, 'es': 11, 'se': 12, 'una': 13, 'meme': 14, 'para': 15, 'qué': 16, 'memes': 17, 'texto': 18, 'textos': 19, 'del': 20, 'por': 21, 'este': 22, 'resemantización': 23, 'las': 24, 'intertexto': 25, 'contenidos': 26, 'porque': 27, 'como': 28, 'lo': 29, 'son': 30, 'tiene': 31, 'intertextualidad': 32, '¿qué': 33, 'no': 34, 'o': 35, '1': 36, 'dos': 37, 'referencias': 38, 'entre': 39, 'replicación': 40, '¿por': 41, 'sentido': 42, 'esta': 43, 'al': 44, '2': 45, 'relación': 46, '→': 47, 'nuevos': 48, 'así': 49, 'conceptos': 50, 'ver': 51, 'nuevo': 52, 'operación': 53, 'su': 54, 'imagen': 55, 'descripción': 56, 'nos': 57, 'está': 58, 'red': 59, 'unos': 60, 'frase': 61, 'solo': 62, 'pueden': 63, 'palabra': 64, 'ha': 65, 'recursos': 66, 'fin': 67, 'u': 68, 'alrededor': 69, 'curso': 70, 'entender': 71, 'índice': 72, 'ejemplos': 73, 'poner': 74, 'prueba': 75, 'aprendido': 76, 'resemantizar': 77, 'veces': 78, 'ya': 79, 'dar': 80, 'proceso': 81, 'transformar': 82, 'cual': 83, 'pérdida': 84, 'semánticos': 85, 'determinado': 86, 'lenguaje': 87, 'innovación': 88, 'creativa': 89, 'pintura': 90, 'rostro': 91, 'ronaldo': 92, 'gesto': 93, 'caso': 94, 'pueblo': 95, 'wakanda': 96, 'hace': 97, 'colombia': 98, 'sobre': 99, 'decir': 100, 'cualquier': 101, 'algo': 102, 'pero': 103, 'relacionado': 104, 'otros': 105, 'significación': 106, 'entonces': 107, 'capitulo': 108, 'simpson': 109, '2018': 110, 'debate': 111, 'pastiche': 112, 'quédate': 113, 'expresa': 114, 'orden': 115, 'verbo': 116, '«ver»': 117, 'ironía': 118, 'reenvía': 119, 'hecho': 120, 'músicos': 121, 'ciegos': 122, 'sin': 123, 'tipo': 124, 'virales': 125, 'clic': 126, '¡y': 127, 'sentidos': 128, 'hacer': 129, 'tecnología': 130, 'manera': 131, 'guardan': 132, 'ir': 133, 'mano': 134, 'hacia': 135, 'viralización': 136, 'mecanismos': 137, 'si': 138, 'poco': 139, 'letras': 140, 'tiempo': 141, 'significados': 142, 'generación': 143, 'únicamente': 144, 'introducción': 145, 'proliferación': 146, 'uso': 147, 'internet': 148, 'provocado': 149, 'nacimiento': 150, 'diversos': 151, 'medios': 152, 'redes': 153, 'tienen': 154, 'entretener': 155, 'socializar': 156, 'opinar': 157, 'variedad': 158, 'comunicativos': 159, 'portadores': 160, 'significado': 161, 'surge': 162, 'fenómeno': 163, 'creativo': 164, 'masificado': 165, 'reproducido': 166, 'usuarios': 167, 'mundo': 168, 'característica': 169, 'objetivos': 170, 'aprenderás': 171, 'caracteriza': 172, 'vuelve': 173, 'viral': 174, 'encontraras': 175, 'secciones': 176, 'componen': 177, 'navega\\xa0por': 178, 'ellas': 179, 'aprender\\xa0las': 180, 'definiciones': 181, 'algunos': 182, '\\xa0además': 183, 'podrás': 184, 'realizar\\xa0las': 185, 'actividades': 186, 'cuestionario': 187, 'palabras': 188, 'significan': 189, 'mismo': 190, 'antes': 191, 'frases': 192, 'usan': 193, 'antiguamente': 194, 'tenían': 195, 'busca': 196, 'énfasis': 197, 'existente': 198, 'uno': 199, 'recuperado': 200, 'victorino': 201, 'zechetto': 202, '2011': 203, 'define': 204, 'varios': 205, 'efectos': 206, 'instala': 207, 'otras': 208, 'recuperar': 209, 'degradación': 210, 'simbólica': 211, 'mítica': 212, 'intento': 213, 'participan': 214, 'transformación': 215, 'representa': 216, 'edvard': 217, 'munch': 218, 'pintado': 219, '1893': 220, 'llamada': 221, 'grito': 222, 'modificado': 223, 'futbolista': 224, 'cristiano': 225, 'realizó': 226, 'cuando': 227, 'ganó': 228, 'balón': 229, 'oro': 230, 'año': 231, '2014': 232, 'visión': 233, 'lóbrega': 234, 'trazos': 235, 'sueltos': 236, 'colores': 237, 'oscuros': 238, 'muchos': 239, 'significa': 240, 'angustia': 241, 'tiempos': 242, 'modernos': 243, 'resignificado': 244, 'jacta': 245, 'conseguir': 246, 'galardón': 247, 'combina': 248, 'trata': 249, 'secuencia': 250, 'película': 251, 'infinity': 252, 'war': 253, 'inspirado': 254, 'cómic': 255, 'avengers': 256, 'marvel': 257, 'aprecia': 258, 'personajes': 259, 'capitan': 260, 'america': 261, 'pantera': 262, 'negra': 263, 'guerreros': 264, 'alusión': 265, 'implícito': 266, 'declaraciones': 267, 'presidente': 268, 'ivan': 269, 'duque': 270, 'presunto': 271, 'apoyo': 272, 'concedieron': 273, 'padres': 274, 'patria': 275, 'estados': 276, 'unidos': 277, 'lograra': 278, 'independencia': 279, 'ello': 280, 'menciona': 281, 'puente': 282, 'boyacá': 283, 'analogía': 284, 'esclavos': 285, 'libres': 286, 'san': 287, 'basilio': 288, 'palenque': 289, 'da': 290, 'nivel': 291, 'metaficción': 292, 'donde': 293, 'ficción': 294, 'acerca': 295, 'realidad': 296, 'histórica': 297, 'transformando': 298, 'mediante': 299, 'distorsión': 300, 'documento': 301, 'paródico': 302, 'podemos': 303, 'considerar': 304, 'cuento': 305, 'novela': 306, 'leemos': 307, 'éste': 308, 'describe': 309, 'narra': 310, 'asociación': 311, 'presupone': 312, 'todo': 313, 'producto': 314, 'esa': 315, 'llamamos': 316, 'conjunto': 317, 'cualquiera': 318, 'zavala': 319, '1999': 320, 'veamos': 321, 'ejemplo': 322, 'asocia': 323, 'personaje': 324, 'apu': 325, 'señala': 326, 'ante': 327, 'corte': 328, 'homero': 329, 'disimula': 330, 'condición': 331, 'dormido': 332, 'anteojos': 333, 'ojos': 334, 'dibujados': 335, 'posición': 336, 'adoptó': 337, 'sergio': 338, 'fajardo': 339, 'candidato': 340, 'presidencia': 341, 'político': 342, 'televisado': 343, 'ambos': 344, 'presidencial': 345, 'fotografia': 346, 'ray': 347, 'charles': 348, 'steve': 349, 'wonder': 350, 'le': 351, 'acompaña': 352, 'quien': 353, 'te': 354, 'vea': 355, 'marca': 356, 'conocido': 357, 'mostrado': 358, 'fotografía': 359, 'reenvío': 360, 'comprende': 361, 'referencia': 362, '¡en': 363, 'sus': 364, 'intertextos': 365, 'correspondientes': 366, 'haz': 367, 'saberlo': 368, 'oye': 369, '¿y': 370, 'eso': 371, 'mucho': 372, 'además': 373, 'identificación': 374, 'producir': 375, 'puede': 376, 'persona': 377, 'producción': 378, 'facilita': 379, 'digital': 380, 'garantiza': 381, 'almacenamiento': 382, 'libros': 383, 'peliculas': 384, 'imagenes': 385, 'etc': 386, 'más': 387, 'sencilla': 388, 'posibilita': 389, 'mayor': 390, 'velocidad': 391, 'participación': 392, 'generada': 393, 'estos': 394, 'promueve': 395, 'socialización': 396, 'otra': 397, 'cosa': 398, 'compartir': 399, 'demás': 400, 'yo': 401, 'siempre': 402, 'comparto': 403, 'me': 404, 'dan': 405, 'risa': 406, '¿es': 407, 'muchas': 408, 'camino': 409, 'embargo': 410, 'apropiación': 411, 'recreación': 412, 'ajenos': 413, 'tal': 414, 'involucrando': 415, 'culturales': 416, 'absorciones': 417, 'transformaciones': 418, 'reiterada': 419, 'propagación': 420, 'asegurada': 421, 'oh': 422, 'vamos': 423, 'todos': 424, 'contagiando': 425, 'conversación': 426, 'terminado': 427, 'instrucciones': 428, 'debe': 429, 'buscar': 430, 'conforman': 431, 'ubicada': 432, 'parte': 433, 'superior': 434, 'tablero': 435, 'haga': 436, 'cada': 437, 'letra': 438, 'hasta': 439, 'completar': 440, 'recuerde': 441, 'cuenta': 442, 'limitado': 443, 'encontrar': 444, 'termina': 445, 'deberá': 446, 'volver': 447, 'iniciar': 448, 'juego': 449, 'aquí': 450, 'tienes': 451, 'aprendiste': 452, 'hay': 453, '¿con': 454, 'otro': 455, 'podrías': 456, 'responder': 457, '¡ya': 458, 'conoces': 459, 'cómo': 460, 'puedes': 461, '¡juega': 462, 'hazte': 463, 'hashtag': 464, 'transmisión': 465, 'cultural': 466, 'figura': 467, 'retórica': 468, 'consiste': 469, 'contrario': 470, 'cultura': 471, 'acumulada': 472, 'transferida': 473, 'según': 474, 'produce': 475, 'recrean': 476, 'involucrarse': 477, 'actúan': 478, 'gérmenes': 479, 'obra': 480, 'literaria': 481, 'menos': 482, 'asociados': 483}\n"
          ]
        }
      ]
    },
    {
      "cell_type": "code",
      "source": [
        ""
      ],
      "metadata": {
        "colab": {
          "base_uri": "https://localhost:8080/"
        },
        "id": "mqId94MZ2uAl",
        "outputId": "9c75ac08-835a-4009-baa6-5e93b6d0e77b"
      },
      "execution_count": 32,
      "outputs": [
        {
          "output_type": "execute_result",
          "data": {
            "text/plain": [
              "dict_keys(['la', 'de', 'el', 'que', 'un', 'y', 'con', 'los', 'a', 'en', 'es', 'se', 'una', 'meme', 'para', 'qué', 'memes', 'texto', 'textos', 'del', 'por', 'este', 'resemantización', 'las', 'intertexto', 'contenidos', 'porque', 'como', 'lo', 'son', 'tiene', 'intertextualidad', '¿qué', 'no', 'o', '1', 'dos', 'referencias', 'entre', 'replicación', '¿por', 'sentido', 'esta', 'al', '2', 'relación', '→', 'nuevos', 'así', 'conceptos', 'ver', 'nuevo', 'operación', 'su', 'imagen', 'descripción', 'nos', 'está', 'red', 'unos', 'frase', 'solo', 'pueden', 'palabra', 'ha', 'recursos', 'fin', 'u', 'alrededor', 'curso', 'entender', 'índice', 'ejemplos', 'poner', 'prueba', 'aprendido', 'resemantizar', 'veces', 'ya', 'dar', 'proceso', 'transformar', 'cual', 'pérdida', 'semánticos', 'determinado', 'lenguaje', 'innovación', 'creativa', 'pintura', 'rostro', 'ronaldo', 'gesto', 'caso', 'pueblo', 'wakanda', 'hace', 'colombia', 'sobre', 'decir', 'cualquier', 'algo', 'pero', 'relacionado', 'otros', 'significación', 'entonces', 'capitulo', 'simpson', '2018', 'debate', 'pastiche', 'quédate', 'expresa', 'orden', 'verbo', '«ver»', 'ironía', 'reenvía', 'hecho', 'músicos', 'ciegos', 'sin', 'tipo', 'virales', 'clic', '¡y', 'sentidos', 'hacer', 'tecnología', 'manera', 'guardan', 'ir', 'mano', 'hacia', 'viralización', 'mecanismos', 'si', 'poco', 'letras', 'tiempo', 'significados', 'generación', 'únicamente', 'introducción', 'proliferación', 'uso', 'internet', 'provocado', 'nacimiento', 'diversos', 'medios', 'redes', 'tienen', 'entretener', 'socializar', 'opinar', 'variedad', 'comunicativos', 'portadores', 'significado', 'surge', 'fenómeno', 'creativo', 'masificado', 'reproducido', 'usuarios', 'mundo', 'característica', 'objetivos', 'aprenderás', 'caracteriza', 'vuelve', 'viral', 'encontraras', 'secciones', 'componen', 'navega\\xa0por', 'ellas', 'aprender\\xa0las', 'definiciones', 'algunos', '\\xa0además', 'podrás', 'realizar\\xa0las', 'actividades', 'cuestionario', 'palabras', 'significan', 'mismo', 'antes', 'frases', 'usan', 'antiguamente', 'tenían', 'busca', 'énfasis', 'existente', 'uno', 'recuperado', 'victorino', 'zechetto', '2011', 'define', 'varios', 'efectos', 'instala', 'otras', 'recuperar', 'degradación', 'simbólica', 'mítica', 'intento', 'participan', 'transformación', 'representa', 'edvard', 'munch', 'pintado', '1893', 'llamada', 'grito', 'modificado', 'futbolista', 'cristiano', 'realizó', 'cuando', 'ganó', 'balón', 'oro', 'año', '2014', 'visión', 'lóbrega', 'trazos', 'sueltos', 'colores', 'oscuros', 'muchos', 'significa', 'angustia', 'tiempos', 'modernos', 'resignificado', 'jacta', 'conseguir', 'galardón', 'combina', 'trata', 'secuencia', 'película', 'infinity', 'war', 'inspirado', 'cómic', 'avengers', 'marvel', 'aprecia', 'personajes', 'capitan', 'america', 'pantera', 'negra', 'guerreros', 'alusión', 'implícito', 'declaraciones', 'presidente', 'ivan', 'duque', 'presunto', 'apoyo', 'concedieron', 'padres', 'patria', 'estados', 'unidos', 'lograra', 'independencia', 'ello', 'menciona', 'puente', 'boyacá', 'analogía', 'esclavos', 'libres', 'san', 'basilio', 'palenque', 'da', 'nivel', 'metaficción', 'donde', 'ficción', 'acerca', 'realidad', 'histórica', 'transformando', 'mediante', 'distorsión', 'documento', 'paródico', 'podemos', 'considerar', 'cuento', 'novela', 'leemos', 'éste', 'describe', 'narra', 'asociación', 'presupone', 'todo', 'producto', 'esa', 'llamamos', 'conjunto', 'cualquiera', 'zavala', '1999', 'veamos', 'ejemplo', 'asocia', 'personaje', 'apu', 'señala', 'ante', 'corte', 'homero', 'disimula', 'condición', 'dormido', 'anteojos', 'ojos', 'dibujados', 'posición', 'adoptó', 'sergio', 'fajardo', 'candidato', 'presidencia', 'político', 'televisado', 'ambos', 'presidencial', 'fotografia', 'ray', 'charles', 'steve', 'wonder', 'le', 'acompaña', 'quien', 'te', 'vea', 'marca', 'conocido', 'mostrado', 'fotografía', 'reenvío', 'comprende', 'referencia', '¡en', 'sus', 'intertextos', 'correspondientes', 'haz', 'saberlo', 'oye', '¿y', 'eso', 'mucho', 'además', 'identificación', 'producir', 'puede', 'persona', 'producción', 'facilita', 'digital', 'garantiza', 'almacenamiento', 'libros', 'peliculas', 'imagenes', 'etc', 'más', 'sencilla', 'posibilita', 'mayor', 'velocidad', 'participación', 'generada', 'estos', 'promueve', 'socialización', 'otra', 'cosa', 'compartir', 'demás', 'yo', 'siempre', 'comparto', 'me', 'dan', 'risa', '¿es', 'muchas', 'camino', 'embargo', 'apropiación', 'recreación', 'ajenos', 'tal', 'involucrando', 'culturales', 'absorciones', 'transformaciones', 'reiterada', 'propagación', 'asegurada', 'oh', 'vamos', 'todos', 'contagiando', 'conversación', 'terminado', 'instrucciones', 'debe', 'buscar', 'conforman', 'ubicada', 'parte', 'superior', 'tablero', 'haga', 'cada', 'letra', 'hasta', 'completar', 'recuerde', 'cuenta', 'limitado', 'encontrar', 'termina', 'deberá', 'volver', 'iniciar', 'juego', 'aquí', 'tienes', 'aprendiste', 'hay', '¿con', 'otro', 'podrías', 'responder', '¡ya', 'conoces', 'cómo', 'puedes', '¡juega', 'hazte', 'hashtag', 'transmisión', 'cultural', 'figura', 'retórica', 'consiste', 'contrario', 'cultura', 'acumulada', 'transferida', 'según', 'produce', 'recrean', 'involucrarse', 'actúan', 'gérmenes', 'obra', 'literaria', 'menos', 'asociados'])"
            ]
          },
          "metadata": {},
          "execution_count": 32
        }
      ]
    }
  ]
}