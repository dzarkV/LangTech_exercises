{
  "nbformat": 4,
  "nbformat_minor": 0,
  "metadata": {
    "colab": {
      "name": "Clasificador de texto simple y rápido.ipynb",
      "provenance": [],
      "collapsed_sections": []
    },
    "kernelspec": {
      "name": "python3",
      "display_name": "Python 3"
    },
    "language_info": {
      "name": "python"
    }
  },
  "cells": [
    {
      "cell_type": "markdown",
      "source": [
        "Este es un clasificador de texto simple, creado a partir de una lección del curso de Introducción al procesamiento del lenguaje natural de la Universidad Austral en Coursera."
      ],
      "metadata": {
        "id": "Tbs8cDj4Q1E0"
      }
    },
    {
      "cell_type": "markdown",
      "source": [
        "## Instalación de liberías"
      ],
      "metadata": {
        "id": "SckjGPAYS2jf"
      }
    },
    {
      "cell_type": "code",
      "execution_count": 2,
      "metadata": {
        "colab": {
          "base_uri": "https://localhost:8080/"
        },
        "id": "4_oaQIOyQubP",
        "outputId": "b48feb4b-c411-4568-de3b-24e2e97042bf"
      },
      "outputs": [
        {
          "output_type": "stream",
          "name": "stdout",
          "text": [
            "[nltk_data] Downloading package punkt to /root/nltk_data...\n",
            "[nltk_data]   Unzipping tokenizers/punkt.zip.\n",
            "Librería nltk está instalada ya\n"
          ]
        }
      ],
      "source": [
        "try:\n",
        "  from nltk import NaiveBayesClassifier as nbc\n",
        "  from nltk.tokenize import word_tokenize\n",
        "  import nltk\n",
        "  nltk.download('punkt')\n",
        "  print('Librería nltk está instalada ya')\n",
        "except ModuleNotFoundError:\n",
        "  print('Librería nltk no instalada, se debe instalar')\n",
        "  !pip install nltk\n",
        "  from nltk import NaiveBayesClassifier as nbc\n",
        "  from nltk.tokenize import word_tokenize\n",
        "  import nltk\n",
        "  nltk.download('punkt')\n",
        "  print('Librería nltk está instalada')"
      ]
    },
    {
      "cell_type": "code",
      "source": [
        "try:\n",
        "  from itertools import chain\n",
        "  print('Librería itertools está instalada ya')\n",
        "except ModuleNotFoundError:\n",
        "  print('Librería itertools no instalada, se debe instalar')\n",
        "  !pip install itertools\n",
        "  from itertools import chain\n",
        "  print('Librería itertools está instalada')"
      ],
      "metadata": {
        "colab": {
          "base_uri": "https://localhost:8080/"
        },
        "id": "hbyRdnLJSdVb",
        "outputId": "2824f154-efd7-4c51-f6cd-bbd4cee75704"
      },
      "execution_count": 3,
      "outputs": [
        {
          "output_type": "stream",
          "name": "stdout",
          "text": [
            "Librería itertools está instalada ya\n"
          ]
        }
      ]
    },
    {
      "cell_type": "code",
      "source": [
        "try:\n",
        "  import joblib\n",
        "  print('Librería joblib está instalada ya')\n",
        "except ModuleNotFoundError:\n",
        "  print('Librería joblib no instalada, se debe instalar')\n",
        "  !pip install joblib\n",
        "  import joblib\n",
        "  print('Librería joblib está instalada')"
      ],
      "metadata": {
        "colab": {
          "base_uri": "https://localhost:8080/"
        },
        "id": "JmqO4DvLTIm8",
        "outputId": "8d269dcc-f9d7-4c99-f5a0-a3dba799b9e4"
      },
      "execution_count": 4,
      "outputs": [
        {
          "output_type": "stream",
          "name": "stdout",
          "text": [
            "Librería joblib está instalada ya\n"
          ]
        }
      ]
    },
    {
      "cell_type": "markdown",
      "source": [
        "## Listado de oraciones para entrenamiento"
      ],
      "metadata": {
        "id": "VORbG_XKTZJb"
      }
    },
    {
      "cell_type": "code",
      "source": [
        "oraciones_entrenamiento = [\n",
        "    ('La vida será todo lo positiva que tú le permitas ser', 'pos'),\n",
        "    ('Esperar puede ser muy difícil pero recoger los frutos de lo sembrado será un gozo', 'pos'),\n",
        "    ('Aprender a aceptarte es el primer paso para alcanzar la paz interior', 'pos'),\n",
        "    ('Solo el amor tiene la fuerza de cambiar la vida de otra persona en cosa de minutos', 'pos'),\n",
        "    ('Nunca pierdas la esperanza porque la alegría podría entrar por la puerta que olvidanste cerrar', 'pos'),\n",
        "    ('No viniste nunca más por aquí ingrato', 'neg'),\n",
        "    ('No entiendo cómo pueden hacer ese tipo de cosas', 'neg'),\n",
        "    ('Ya no quedan formas de salir de aquí', 'neg'),\n",
        "    ('Me equivoqué con mi pronóstico lo siento', 'neg'),\n",
        "    ('No había manera de fallar no puedo creer lo que sucedió', 'neg')]"
      ],
      "metadata": {
        "id": "tD5sCpztTdmE"
      },
      "execution_count": 5,
      "outputs": []
    },
    {
      "cell_type": "markdown",
      "source": [
        "## Lista de oraciones para test"
      ],
      "metadata": {
        "id": "jJmAOx6MWOuz"
      }
    },
    {
      "cell_type": "code",
      "source": [
        "oracion_prueba_positiva = 'La única diferencia entre el éxito y el fracaso es la actitud ante la vida'\n",
        "oracion_prueba_negativa = 'No entiendo nada de lo que enseñaron la semana pasada en el curso de NLP'"
      ],
      "metadata": {
        "id": "-FtglBi1WUqB"
      },
      "execution_count": 6,
      "outputs": []
    },
    {
      "cell_type": "markdown",
      "source": [
        "#### Se separan todas las palabras en un vocabulario en una lista única (`chain` = optimización para ciclos)"
      ],
      "metadata": {
        "id": "cPzsE1BdW1oi"
      }
    },
    {
      "cell_type": "code",
      "source": [
        "vocabulario = set(chain(*[word_tokenize(i[0].lower()) for i in oraciones_entrenamiento]))"
      ],
      "metadata": {
        "id": "RmOiOQzfXcmA"
      },
      "execution_count": 7,
      "outputs": []
    },
    {
      "cell_type": "code",
      "source": [
        "vocabulario"
      ],
      "metadata": {
        "id": "qzGr806nYjkP"
      },
      "execution_count": null,
      "outputs": []
    },
    {
      "cell_type": "code",
      "source": [
        "array_palabras = [({i:(i in word_tokenize(sentence.lower())) for i in vocabulario}, tag) for sentence, tag in oraciones_entrenamiento ]"
      ],
      "metadata": {
        "id": "QcY7Q0wZZI1l"
      },
      "execution_count": 9,
      "outputs": []
    },
    {
      "cell_type": "code",
      "source": [
        "for i in array_palabras:\n",
        "  print('Oración: ')\n",
        "  print(i)\n",
        "  print('___________________________________________________________________________________________________________________')"
      ],
      "metadata": {
        "id": "pC_Xspg1bMR_"
      },
      "execution_count": null,
      "outputs": []
    },
    {
      "cell_type": "markdown",
      "source": [
        "#### Se ingresa el conjunto de datos en el modelo"
      ],
      "metadata": {
        "id": "8x6WbBLycwnw"
      }
    },
    {
      "cell_type": "code",
      "source": [
        "NaiveBClassifier = nbc.train(array_palabras)"
      ],
      "metadata": {
        "id": "b9E6SujIbiou"
      },
      "execution_count": 11,
      "outputs": []
    },
    {
      "cell_type": "markdown",
      "source": [
        "#### Se consultan las etiquetas "
      ],
      "metadata": {
        "id": "CI4j0ChIc2L5"
      }
    },
    {
      "cell_type": "code",
      "source": [
        "NaiveBClassifier.labels()"
      ],
      "metadata": {
        "colab": {
          "base_uri": "https://localhost:8080/"
        },
        "id": "3nHYT1xYzDi3",
        "outputId": "85b3902d-5c16-49f3-8fb1-532dadba5774"
      },
      "execution_count": 12,
      "outputs": [
        {
          "output_type": "execute_result",
          "data": {
            "text/plain": [
              "['pos', 'neg']"
            ]
          },
          "metadata": {},
          "execution_count": 12
        }
      ]
    },
    {
      "cell_type": "markdown",
      "source": [
        "#### Para aplicar el modelo se debe aplicar el mismo preprocesamiento"
      ],
      "metadata": {
        "id": "NMfqzJlWzJsA"
      }
    },
    {
      "cell_type": "code",
      "source": [
        "array_positivo = {i:(i in word_tokenize(oracion_prueba_positiva.lower())) for i in vocabulario}"
      ],
      "metadata": {
        "id": "f9RnVS3fzOgw"
      },
      "execution_count": 13,
      "outputs": []
    },
    {
      "cell_type": "code",
      "source": [
        "array_negativo = {i:(i in word_tokenize(oracion_prueba_negativa.lower())) for i in vocabulario}"
      ],
      "metadata": {
        "id": "25vRwu4P0CZ2"
      },
      "execution_count": 14,
      "outputs": []
    },
    {
      "cell_type": "code",
      "source": [
        "array_positivo"
      ],
      "metadata": {
        "id": "dyuJ2Iw10NOl"
      },
      "execution_count": null,
      "outputs": []
    },
    {
      "cell_type": "markdown",
      "source": [
        "### Probamos el modelo"
      ],
      "metadata": {
        "id": "7VyXFT1B0Wtl"
      }
    },
    {
      "cell_type": "code",
      "source": [
        "NaiveBClassifier.classify(array_positivo)"
      ],
      "metadata": {
        "colab": {
          "base_uri": "https://localhost:8080/",
          "height": 35
        },
        "id": "iyyODNoW0YwF",
        "outputId": "d442c07b-59f0-497e-8789-abc741b1eded"
      },
      "execution_count": 16,
      "outputs": [
        {
          "output_type": "execute_result",
          "data": {
            "text/plain": [
              "'pos'"
            ],
            "application/vnd.google.colaboratory.intrinsic+json": {
              "type": "string"
            }
          },
          "metadata": {},
          "execution_count": 16
        }
      ]
    },
    {
      "cell_type": "code",
      "source": [
        "NaiveBClassifier.classify(array_negativo)"
      ],
      "metadata": {
        "colab": {
          "base_uri": "https://localhost:8080/",
          "height": 35
        },
        "id": "5gDx9ff40hpO",
        "outputId": "94dc3c1d-8832-4d8b-f0f3-8f37e6d4db9d"
      },
      "execution_count": 17,
      "outputs": [
        {
          "output_type": "execute_result",
          "data": {
            "text/plain": [
              "'neg'"
            ],
            "application/vnd.google.colaboratory.intrinsic+json": {
              "type": "string"
            }
          },
          "metadata": {},
          "execution_count": 17
        }
      ]
    },
    {
      "cell_type": "markdown",
      "source": [
        "### Guardar el modelo"
      ],
      "metadata": {
        "id": "pFNl6tOO05Cm"
      }
    },
    {
      "cell_type": "code",
      "source": [
        "nombre_file = '/content/models/NaiveBClassifier.joblib.pkl' "
      ],
      "metadata": {
        "id": "nQIWx--w06_W"
      },
      "execution_count": null,
      "outputs": []
    },
    {
      "cell_type": "code",
      "source": [
        "rtn = joblib.dump(NaiveBClassifier, nombre_file, compress = 9)"
      ],
      "metadata": {
        "id": "UeNNtmNq1Knm"
      },
      "execution_count": null,
      "outputs": []
    },
    {
      "cell_type": "markdown",
      "source": [
        "## Otros tipos de modelos"
      ],
      "metadata": {
        "id": "Tx4T9TGAYZvE"
      }
    },
    {
      "cell_type": "code",
      "source": [
        "from nltk.classify import MaxentClassifier\n",
        "from nltk.classify.scikitlearn import SklearnClassifier\n",
        "from sklearn.naive_bayes import MultinomialNB"
      ],
      "metadata": {
        "id": "Ww2JNAPdYd79"
      },
      "execution_count": 18,
      "outputs": []
    },
    {
      "cell_type": "markdown",
      "source": [
        "### Un modelo con hiperparametrización"
      ],
      "metadata": {
        "id": "z9gJxwgwXQ7i"
      }
    },
    {
      "cell_type": "code",
      "source": [
        "Max_classifier = MaxentClassifier.train(array_palabras, trace = 0, max_iter=3, min_lldelta=0.5)"
      ],
      "metadata": {
        "id": "dIKMxwc9XQGG"
      },
      "execution_count": 19,
      "outputs": []
    },
    {
      "cell_type": "code",
      "source": [
        "Max_classifier.classify(array_positivo)"
      ],
      "metadata": {
        "colab": {
          "base_uri": "https://localhost:8080/",
          "height": 35
        },
        "id": "D3zxTVcbX6SN",
        "outputId": "297604b8-68a9-496f-c006-9eb2f24bdec2"
      },
      "execution_count": 20,
      "outputs": [
        {
          "output_type": "execute_result",
          "data": {
            "text/plain": [
              "'pos'"
            ],
            "application/vnd.google.colaboratory.intrinsic+json": {
              "type": "string"
            }
          },
          "metadata": {},
          "execution_count": 20
        }
      ]
    },
    {
      "cell_type": "code",
      "source": [
        "Max_classifier.classify(array_negativo)"
      ],
      "metadata": {
        "colab": {
          "base_uri": "https://localhost:8080/",
          "height": 35
        },
        "id": "_gP5LQ81YEaU",
        "outputId": "4112228a-8734-4fb3-9277-9f3bb4c3ee8c"
      },
      "execution_count": 21,
      "outputs": [
        {
          "output_type": "execute_result",
          "data": {
            "text/plain": [
              "'neg'"
            ],
            "application/vnd.google.colaboratory.intrinsic+json": {
              "type": "string"
            }
          },
          "metadata": {},
          "execution_count": 21
        }
      ]
    },
    {
      "cell_type": "markdown",
      "source": [
        "### Modelo Multinomia\n",
        "\n"
      ],
      "metadata": {
        "id": "JHsyw_IhZIE8"
      }
    },
    {
      "cell_type": "code",
      "source": [
        "SKClassifier = SklearnClassifier(MultinomialNB())"
      ],
      "metadata": {
        "id": "tZ-cRaFdZK0x"
      },
      "execution_count": 24,
      "outputs": []
    },
    {
      "cell_type": "code",
      "source": [
        "SKClassifier.train(array_palabras)"
      ],
      "metadata": {
        "colab": {
          "base_uri": "https://localhost:8080/"
        },
        "id": "X8Is2HXfZd0D",
        "outputId": "d6a296df-91d8-4de1-facd-a1ec9e9304a3"
      },
      "execution_count": 25,
      "outputs": [
        {
          "output_type": "execute_result",
          "data": {
            "text/plain": [
              "<SklearnClassifier(MultinomialNB())>"
            ]
          },
          "metadata": {},
          "execution_count": 25
        }
      ]
    },
    {
      "cell_type": "code",
      "source": [
        "SKClassifier.classify(array_positivo)"
      ],
      "metadata": {
        "colab": {
          "base_uri": "https://localhost:8080/",
          "height": 35
        },
        "id": "dYKgB3uhZni3",
        "outputId": "c56eefc4-e0e5-4f3e-a341-4c4e4764754f"
      },
      "execution_count": 26,
      "outputs": [
        {
          "output_type": "execute_result",
          "data": {
            "text/plain": [
              "'pos'"
            ],
            "application/vnd.google.colaboratory.intrinsic+json": {
              "type": "string"
            }
          },
          "metadata": {},
          "execution_count": 26
        }
      ]
    },
    {
      "cell_type": "code",
      "source": [
        "SKClassifier.classify(array_negativo)"
      ],
      "metadata": {
        "colab": {
          "base_uri": "https://localhost:8080/",
          "height": 35
        },
        "id": "-qqez1DYZnQq",
        "outputId": "b08655a4-354b-4fbc-c732-fe620735af25"
      },
      "execution_count": 27,
      "outputs": [
        {
          "output_type": "execute_result",
          "data": {
            "text/plain": [
              "'neg'"
            ],
            "application/vnd.google.colaboratory.intrinsic+json": {
              "type": "string"
            }
          },
          "metadata": {},
          "execution_count": 27
        }
      ]
    }
  ]
}