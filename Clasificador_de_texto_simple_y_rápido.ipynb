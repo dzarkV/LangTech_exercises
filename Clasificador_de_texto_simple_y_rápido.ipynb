{
  "nbformat": 4,
  "nbformat_minor": 0,
  "metadata": {
    "colab": {
      "name": "Clasificador de texto simple y rápido.ipynb",
      "provenance": [],
      "collapsed_sections": []
    },
    "kernelspec": {
      "name": "python3",
      "display_name": "Python 3"
    },
    "language_info": {
      "name": "python"
    }
  },
  "cells": [
    {
      "cell_type": "markdown",
      "source": [
        "Este es un clasificador de texto simple, creado a partir de una lección del curso de Introducción al procesamiento del lenguaje natural de la Universidad Austral en Coursera."
      ],
      "metadata": {
        "id": "Tbs8cDj4Q1E0"
      }
    },
    {
      "cell_type": "markdown",
      "source": [
        "## Instalación de liberías"
      ],
      "metadata": {
        "id": "SckjGPAYS2jf"
      }
    },
    {
      "cell_type": "code",
      "execution_count": null,
      "metadata": {
        "colab": {
          "base_uri": "https://localhost:8080/"
        },
        "id": "4_oaQIOyQubP",
        "outputId": "38f68e41-91df-4b42-f8f4-8deca723e6dc"
      },
      "outputs": [
        {
          "output_type": "stream",
          "name": "stdout",
          "text": [
            "Librería nltk está instalada ya\n"
          ]
        }
      ],
      "source": [
        "try:\n",
        "  from nltk import NaiveBayesClassifier as nbc\n",
        "  from nltk.tokenize import word_tokenize\n",
        "  import nltk\n",
        "  nltk.download('punkt')\n",
        "  print('Librería nltk está instalada ya')\n",
        "except ModuleNotFoundError:\n",
        "  print('Librería nltk no instalada, se debe instalar')\n",
        "  !pip install nltk\n",
        "  from nltk import NaiveBayesClassifier as nbc\n",
        "  from nltk.tokenize import word_tokenize\n",
        "  import nltk\n",
        "  nltk.download('punkt')\n",
        "  print('Librería nltk está instalada')"
      ]
    },
    {
      "cell_type": "code",
      "source": [
        "try:\n",
        "  from itertools import chain\n",
        "  print('Librería itertools está instalada ya')\n",
        "except ModuleNotFoundError:\n",
        "  print('Librería itertools no instalada, se debe instalar')\n",
        "  !pip install itertools\n",
        "  from itertools import chain\n",
        "  print('Librería itertools está instalada')"
      ],
      "metadata": {
        "colab": {
          "base_uri": "https://localhost:8080/"
        },
        "id": "hbyRdnLJSdVb",
        "outputId": "fba1199c-eefb-4ec8-c31f-8a08a49b2351"
      },
      "execution_count": null,
      "outputs": [
        {
          "output_type": "stream",
          "name": "stdout",
          "text": [
            "Librería itertools está instalada ya\n"
          ]
        }
      ]
    },
    {
      "cell_type": "code",
      "source": [
        "try:\n",
        "  import joblib\n",
        "  print('Librería joblib está instalada ya')\n",
        "except ModuleNotFoundError:\n",
        "  print('Librería joblib no instalada, se debe instalar')\n",
        "  !pip install joblib\n",
        "  import joblib\n",
        "  print('Librería joblib está instalada')"
      ],
      "metadata": {
        "colab": {
          "base_uri": "https://localhost:8080/"
        },
        "id": "JmqO4DvLTIm8",
        "outputId": "29a07248-38eb-48b2-f2ad-72007b2b919f"
      },
      "execution_count": null,
      "outputs": [
        {
          "output_type": "stream",
          "name": "stdout",
          "text": [
            "Librería joblib está instalada ya\n"
          ]
        }
      ]
    },
    {
      "cell_type": "markdown",
      "source": [
        "## Listado de oraciones para entrenamiento"
      ],
      "metadata": {
        "id": "VORbG_XKTZJb"
      }
    },
    {
      "cell_type": "code",
      "source": [
        "oraciones_entrenamiento = [\n",
        "    ('La vida será todo lo positiva que tú le permitas ser', 'pos'),\n",
        "    ('Esperar puede ser muy difícil pero recoger los frutos de lo sembrado será un gozo', 'pos'),\n",
        "    ('Aprender a aceptarte es el primer paso para alcanzar la paz interior', 'pos'),\n",
        "    ('Solo el amor tiene la fuerza de cambiar la vida de otra persona en cosa de minutos', 'pos'),\n",
        "    ('Nunca pierdas la esperanza porque la alegría podría entrar por la puerta que olvidanste cerrar', 'pos'),\n",
        "    ('No viniste nunca más por aquí ingrato', 'neg'),\n",
        "    ('No entiendo cómo pueden hacer ese tipo de cosas', 'neg'),\n",
        "    ('Ya no quedan formas de salir de aquí', 'neg'),\n",
        "    ('Me equivoqué con mi pronóstico lo siento', 'neg'),\n",
        "    ('No había manera de fallar no puedo creer lo que sucedió', 'neg')]"
      ],
      "metadata": {
        "id": "tD5sCpztTdmE"
      },
      "execution_count": null,
      "outputs": []
    },
    {
      "cell_type": "markdown",
      "source": [
        "## Lista de oraciones para test"
      ],
      "metadata": {
        "id": "jJmAOx6MWOuz"
      }
    },
    {
      "cell_type": "code",
      "source": [
        "oracion_prueba_positiva = 'La única diferencia entre el éxito y el fracaso es la actitud ante la vida'\n",
        "oracion_prueba_negativa = 'No entiendo nada de lo que enseñaron la semana pasada en el curso de NLP'"
      ],
      "metadata": {
        "id": "-FtglBi1WUqB"
      },
      "execution_count": null,
      "outputs": []
    },
    {
      "cell_type": "markdown",
      "source": [
        "#### Se separan todas las palabras en un vocabulario en una lista única (`chain` = optimización para ciclos)"
      ],
      "metadata": {
        "id": "cPzsE1BdW1oi"
      }
    },
    {
      "cell_type": "code",
      "source": [
        "vocabulario = set(chain(*[word_tokenize(i[0].lower()) for i in oraciones_entrenamiento]))"
      ],
      "metadata": {
        "colab": {
          "base_uri": "https://localhost:8080/"
        },
        "id": "RmOiOQzfXcmA",
        "outputId": "e418a20f-b491-4228-9174-5ea5a3a63190"
      },
      "execution_count": null,
      "outputs": [
        {
          "output_type": "stream",
          "name": "stdout",
          "text": [
            "[nltk_data] Downloading package punkt to /root/nltk_data...\n",
            "[nltk_data]   Unzipping tokenizers/punkt.zip.\n"
          ]
        }
      ]
    },
    {
      "cell_type": "code",
      "source": [
        "vocabulario"
      ],
      "metadata": {
        "colab": {
          "base_uri": "https://localhost:8080/"
        },
        "id": "qzGr806nYjkP",
        "outputId": "d4ae98e5-fa1a-4658-b0ea-6f266692dcc2"
      },
      "execution_count": null,
      "outputs": [
        {
          "output_type": "execute_result",
          "data": {
            "text/plain": [
              "{'a',\n",
              " 'aceptarte',\n",
              " 'alcanzar',\n",
              " 'alegría',\n",
              " 'amor',\n",
              " 'aprender',\n",
              " 'aquí',\n",
              " 'cambiar',\n",
              " 'cerrar',\n",
              " 'con',\n",
              " 'cosa',\n",
              " 'cosas',\n",
              " 'creer',\n",
              " 'cómo',\n",
              " 'de',\n",
              " 'difícil',\n",
              " 'el',\n",
              " 'en',\n",
              " 'entiendo',\n",
              " 'entrar',\n",
              " 'equivoqué',\n",
              " 'es',\n",
              " 'ese',\n",
              " 'esperanza',\n",
              " 'esperar',\n",
              " 'fallar',\n",
              " 'formas',\n",
              " 'frutos',\n",
              " 'fuerza',\n",
              " 'gozo',\n",
              " 'había',\n",
              " 'hacer',\n",
              " 'ingrato',\n",
              " 'interior',\n",
              " 'la',\n",
              " 'le',\n",
              " 'lo',\n",
              " 'los',\n",
              " 'manera',\n",
              " 'me',\n",
              " 'mi',\n",
              " 'minutos',\n",
              " 'muy',\n",
              " 'más',\n",
              " 'no',\n",
              " 'nunca',\n",
              " 'olvidanste',\n",
              " 'otra',\n",
              " 'para',\n",
              " 'paso',\n",
              " 'paz',\n",
              " 'permitas',\n",
              " 'pero',\n",
              " 'persona',\n",
              " 'pierdas',\n",
              " 'podría',\n",
              " 'por',\n",
              " 'porque',\n",
              " 'positiva',\n",
              " 'primer',\n",
              " 'pronóstico',\n",
              " 'puede',\n",
              " 'pueden',\n",
              " 'puedo',\n",
              " 'puerta',\n",
              " 'que',\n",
              " 'quedan',\n",
              " 'recoger',\n",
              " 'salir',\n",
              " 'sembrado',\n",
              " 'ser',\n",
              " 'será',\n",
              " 'siento',\n",
              " 'solo',\n",
              " 'sucedió',\n",
              " 'tiene',\n",
              " 'tipo',\n",
              " 'todo',\n",
              " 'tú',\n",
              " 'un',\n",
              " 'vida',\n",
              " 'viniste',\n",
              " 'ya'}"
            ]
          },
          "metadata": {},
          "execution_count": 8
        }
      ]
    },
    {
      "cell_type": "code",
      "source": [
        "array_palabras = [({i:(i in word_tokenize(sentence.lower())) for i in vocabulario}, tag) for sentence, tag in oraciones_entrenamiento ]"
      ],
      "metadata": {
        "id": "QcY7Q0wZZI1l"
      },
      "execution_count": null,
      "outputs": []
    },
    {
      "cell_type": "code",
      "source": [
        "for i in array_palabras:\n",
        "  print('Oración: ')\n",
        "  print(i)\n",
        "  print('___________________________________________________________________________________________________________________')"
      ],
      "metadata": {
        "colab": {
          "base_uri": "https://localhost:8080/"
        },
        "id": "pC_Xspg1bMR_",
        "outputId": "54a8fe1b-7ec0-4c0e-b8db-70e429ed0e22"
      },
      "execution_count": null,
      "outputs": [
        {
          "output_type": "stream",
          "name": "stdout",
          "text": [
            "Oración: \n",
            "({'pronóstico': False, 'puedo': False, 'por': False, 'pierdas': False, 'persona': False, 'interior': False, 'paso': False, 'pueden': False, 'cosa': False, 'solo': False, 'permitas': True, 'ya': False, 'cosas': False, 'sucedió': False, 'amor': False, 'frutos': False, 'es': False, 'gozo': False, 'aprender': False, 'equivoqué': False, 'ser': True, 'esperar': False, 'manera': False, 'lo': True, 'muy': False, 'positiva': True, 'esperanza': False, 'quedan': False, 'tipo': False, 'pero': False, 'vida': True, 'recoger': False, 'la': True, 'porque': False, 'primer': False, 'hacer': False, 'paz': False, 'olvidanste': False, 'minutos': False, 'a': False, 'otra': False, 'viniste': False, 'de': False, 'que': True, 'fuerza': False, 'creer': False, 'aceptarte': False, 'alegría': False, 'puerta': False, 'cerrar': False, 'un': False, 'me': False, 'en': False, 'aquí': False, 'entrar': False, 'más': False, 'tú': True, 'siento': False, 'puede': False, 'con': False, 'ingrato': False, 'los': False, 'ese': False, 'mi': False, 'fallar': False, 'podría': False, 'será': True, 'entiendo': False, 'alcanzar': False, 'el': False, 'había': False, 'sembrado': False, 'cómo': False, 'le': True, 'salir': False, 'nunca': False, 'difícil': False, 'tiene': False, 'para': False, 'no': False, 'formas': False, 'todo': True, 'cambiar': False}, 'pos')\n",
            "___________________________________________________________________________________________________________________\n",
            "Oración: \n",
            "({'pronóstico': False, 'puedo': False, 'por': False, 'pierdas': False, 'persona': False, 'interior': False, 'paso': False, 'pueden': False, 'cosa': False, 'solo': False, 'permitas': False, 'ya': False, 'cosas': False, 'sucedió': False, 'amor': False, 'frutos': True, 'es': False, 'gozo': True, 'aprender': False, 'equivoqué': False, 'ser': True, 'esperar': True, 'manera': False, 'lo': True, 'muy': True, 'positiva': False, 'esperanza': False, 'quedan': False, 'tipo': False, 'pero': True, 'vida': False, 'recoger': True, 'la': False, 'porque': False, 'primer': False, 'hacer': False, 'paz': False, 'olvidanste': False, 'minutos': False, 'a': False, 'otra': False, 'viniste': False, 'de': True, 'que': False, 'fuerza': False, 'creer': False, 'aceptarte': False, 'alegría': False, 'puerta': False, 'cerrar': False, 'un': True, 'me': False, 'en': False, 'aquí': False, 'entrar': False, 'más': False, 'tú': False, 'siento': False, 'puede': True, 'con': False, 'ingrato': False, 'los': True, 'ese': False, 'mi': False, 'fallar': False, 'podría': False, 'será': True, 'entiendo': False, 'alcanzar': False, 'el': False, 'había': False, 'sembrado': True, 'cómo': False, 'le': False, 'salir': False, 'nunca': False, 'difícil': True, 'tiene': False, 'para': False, 'no': False, 'formas': False, 'todo': False, 'cambiar': False}, 'pos')\n",
            "___________________________________________________________________________________________________________________\n",
            "Oración: \n",
            "({'pronóstico': False, 'puedo': False, 'por': False, 'pierdas': False, 'persona': False, 'interior': True, 'paso': True, 'pueden': False, 'cosa': False, 'solo': False, 'permitas': False, 'ya': False, 'cosas': False, 'sucedió': False, 'amor': False, 'frutos': False, 'es': True, 'gozo': False, 'aprender': True, 'equivoqué': False, 'ser': False, 'esperar': False, 'manera': False, 'lo': False, 'muy': False, 'positiva': False, 'esperanza': False, 'quedan': False, 'tipo': False, 'pero': False, 'vida': False, 'recoger': False, 'la': True, 'porque': False, 'primer': True, 'hacer': False, 'paz': True, 'olvidanste': False, 'minutos': False, 'a': True, 'otra': False, 'viniste': False, 'de': False, 'que': False, 'fuerza': False, 'creer': False, 'aceptarte': True, 'alegría': False, 'puerta': False, 'cerrar': False, 'un': False, 'me': False, 'en': False, 'aquí': False, 'entrar': False, 'más': False, 'tú': False, 'siento': False, 'puede': False, 'con': False, 'ingrato': False, 'los': False, 'ese': False, 'mi': False, 'fallar': False, 'podría': False, 'será': False, 'entiendo': False, 'alcanzar': True, 'el': True, 'había': False, 'sembrado': False, 'cómo': False, 'le': False, 'salir': False, 'nunca': False, 'difícil': False, 'tiene': False, 'para': True, 'no': False, 'formas': False, 'todo': False, 'cambiar': False}, 'pos')\n",
            "___________________________________________________________________________________________________________________\n",
            "Oración: \n",
            "({'pronóstico': False, 'puedo': False, 'por': False, 'pierdas': False, 'persona': True, 'interior': False, 'paso': False, 'pueden': False, 'cosa': True, 'solo': True, 'permitas': False, 'ya': False, 'cosas': False, 'sucedió': False, 'amor': True, 'frutos': False, 'es': False, 'gozo': False, 'aprender': False, 'equivoqué': False, 'ser': False, 'esperar': False, 'manera': False, 'lo': False, 'muy': False, 'positiva': False, 'esperanza': False, 'quedan': False, 'tipo': False, 'pero': False, 'vida': True, 'recoger': False, 'la': True, 'porque': False, 'primer': False, 'hacer': False, 'paz': False, 'olvidanste': False, 'minutos': True, 'a': False, 'otra': True, 'viniste': False, 'de': True, 'que': False, 'fuerza': True, 'creer': False, 'aceptarte': False, 'alegría': False, 'puerta': False, 'cerrar': False, 'un': False, 'me': False, 'en': True, 'aquí': False, 'entrar': False, 'más': False, 'tú': False, 'siento': False, 'puede': False, 'con': False, 'ingrato': False, 'los': False, 'ese': False, 'mi': False, 'fallar': False, 'podría': False, 'será': False, 'entiendo': False, 'alcanzar': False, 'el': True, 'había': False, 'sembrado': False, 'cómo': False, 'le': False, 'salir': False, 'nunca': False, 'difícil': False, 'tiene': True, 'para': False, 'no': False, 'formas': False, 'todo': False, 'cambiar': True}, 'pos')\n",
            "___________________________________________________________________________________________________________________\n",
            "Oración: \n",
            "({'pronóstico': False, 'puedo': False, 'por': True, 'pierdas': True, 'persona': False, 'interior': False, 'paso': False, 'pueden': False, 'cosa': False, 'solo': False, 'permitas': False, 'ya': False, 'cosas': False, 'sucedió': False, 'amor': False, 'frutos': False, 'es': False, 'gozo': False, 'aprender': False, 'equivoqué': False, 'ser': False, 'esperar': False, 'manera': False, 'lo': False, 'muy': False, 'positiva': False, 'esperanza': True, 'quedan': False, 'tipo': False, 'pero': False, 'vida': False, 'recoger': False, 'la': True, 'porque': True, 'primer': False, 'hacer': False, 'paz': False, 'olvidanste': True, 'minutos': False, 'a': False, 'otra': False, 'viniste': False, 'de': False, 'que': True, 'fuerza': False, 'creer': False, 'aceptarte': False, 'alegría': True, 'puerta': True, 'cerrar': True, 'un': False, 'me': False, 'en': False, 'aquí': False, 'entrar': True, 'más': False, 'tú': False, 'siento': False, 'puede': False, 'con': False, 'ingrato': False, 'los': False, 'ese': False, 'mi': False, 'fallar': False, 'podría': True, 'será': False, 'entiendo': False, 'alcanzar': False, 'el': False, 'había': False, 'sembrado': False, 'cómo': False, 'le': False, 'salir': False, 'nunca': True, 'difícil': False, 'tiene': False, 'para': False, 'no': False, 'formas': False, 'todo': False, 'cambiar': False}, 'pos')\n",
            "___________________________________________________________________________________________________________________\n",
            "Oración: \n",
            "({'pronóstico': False, 'puedo': False, 'por': True, 'pierdas': False, 'persona': False, 'interior': False, 'paso': False, 'pueden': False, 'cosa': False, 'solo': False, 'permitas': False, 'ya': False, 'cosas': False, 'sucedió': False, 'amor': False, 'frutos': False, 'es': False, 'gozo': False, 'aprender': False, 'equivoqué': False, 'ser': False, 'esperar': False, 'manera': False, 'lo': False, 'muy': False, 'positiva': False, 'esperanza': False, 'quedan': False, 'tipo': False, 'pero': False, 'vida': False, 'recoger': False, 'la': False, 'porque': False, 'primer': False, 'hacer': False, 'paz': False, 'olvidanste': False, 'minutos': False, 'a': False, 'otra': False, 'viniste': True, 'de': False, 'que': False, 'fuerza': False, 'creer': False, 'aceptarte': False, 'alegría': False, 'puerta': False, 'cerrar': False, 'un': False, 'me': False, 'en': False, 'aquí': True, 'entrar': False, 'más': True, 'tú': False, 'siento': False, 'puede': False, 'con': False, 'ingrato': True, 'los': False, 'ese': False, 'mi': False, 'fallar': False, 'podría': False, 'será': False, 'entiendo': False, 'alcanzar': False, 'el': False, 'había': False, 'sembrado': False, 'cómo': False, 'le': False, 'salir': False, 'nunca': True, 'difícil': False, 'tiene': False, 'para': False, 'no': True, 'formas': False, 'todo': False, 'cambiar': False}, 'neg')\n",
            "___________________________________________________________________________________________________________________\n",
            "Oración: \n",
            "({'pronóstico': False, 'puedo': False, 'por': False, 'pierdas': False, 'persona': False, 'interior': False, 'paso': False, 'pueden': True, 'cosa': False, 'solo': False, 'permitas': False, 'ya': False, 'cosas': True, 'sucedió': False, 'amor': False, 'frutos': False, 'es': False, 'gozo': False, 'aprender': False, 'equivoqué': False, 'ser': False, 'esperar': False, 'manera': False, 'lo': False, 'muy': False, 'positiva': False, 'esperanza': False, 'quedan': False, 'tipo': True, 'pero': False, 'vida': False, 'recoger': False, 'la': False, 'porque': False, 'primer': False, 'hacer': True, 'paz': False, 'olvidanste': False, 'minutos': False, 'a': False, 'otra': False, 'viniste': False, 'de': True, 'que': False, 'fuerza': False, 'creer': False, 'aceptarte': False, 'alegría': False, 'puerta': False, 'cerrar': False, 'un': False, 'me': False, 'en': False, 'aquí': False, 'entrar': False, 'más': False, 'tú': False, 'siento': False, 'puede': False, 'con': False, 'ingrato': False, 'los': False, 'ese': True, 'mi': False, 'fallar': False, 'podría': False, 'será': False, 'entiendo': True, 'alcanzar': False, 'el': False, 'había': False, 'sembrado': False, 'cómo': True, 'le': False, 'salir': False, 'nunca': False, 'difícil': False, 'tiene': False, 'para': False, 'no': True, 'formas': False, 'todo': False, 'cambiar': False}, 'neg')\n",
            "___________________________________________________________________________________________________________________\n",
            "Oración: \n",
            "({'pronóstico': False, 'puedo': False, 'por': False, 'pierdas': False, 'persona': False, 'interior': False, 'paso': False, 'pueden': False, 'cosa': False, 'solo': False, 'permitas': False, 'ya': True, 'cosas': False, 'sucedió': False, 'amor': False, 'frutos': False, 'es': False, 'gozo': False, 'aprender': False, 'equivoqué': False, 'ser': False, 'esperar': False, 'manera': False, 'lo': False, 'muy': False, 'positiva': False, 'esperanza': False, 'quedan': True, 'tipo': False, 'pero': False, 'vida': False, 'recoger': False, 'la': False, 'porque': False, 'primer': False, 'hacer': False, 'paz': False, 'olvidanste': False, 'minutos': False, 'a': False, 'otra': False, 'viniste': False, 'de': True, 'que': False, 'fuerza': False, 'creer': False, 'aceptarte': False, 'alegría': False, 'puerta': False, 'cerrar': False, 'un': False, 'me': False, 'en': False, 'aquí': True, 'entrar': False, 'más': False, 'tú': False, 'siento': False, 'puede': False, 'con': False, 'ingrato': False, 'los': False, 'ese': False, 'mi': False, 'fallar': False, 'podría': False, 'será': False, 'entiendo': False, 'alcanzar': False, 'el': False, 'había': False, 'sembrado': False, 'cómo': False, 'le': False, 'salir': True, 'nunca': False, 'difícil': False, 'tiene': False, 'para': False, 'no': True, 'formas': True, 'todo': False, 'cambiar': False}, 'neg')\n",
            "___________________________________________________________________________________________________________________\n",
            "Oración: \n",
            "({'pronóstico': True, 'puedo': False, 'por': False, 'pierdas': False, 'persona': False, 'interior': False, 'paso': False, 'pueden': False, 'cosa': False, 'solo': False, 'permitas': False, 'ya': False, 'cosas': False, 'sucedió': False, 'amor': False, 'frutos': False, 'es': False, 'gozo': False, 'aprender': False, 'equivoqué': True, 'ser': False, 'esperar': False, 'manera': False, 'lo': True, 'muy': False, 'positiva': False, 'esperanza': False, 'quedan': False, 'tipo': False, 'pero': False, 'vida': False, 'recoger': False, 'la': False, 'porque': False, 'primer': False, 'hacer': False, 'paz': False, 'olvidanste': False, 'minutos': False, 'a': False, 'otra': False, 'viniste': False, 'de': False, 'que': False, 'fuerza': False, 'creer': False, 'aceptarte': False, 'alegría': False, 'puerta': False, 'cerrar': False, 'un': False, 'me': True, 'en': False, 'aquí': False, 'entrar': False, 'más': False, 'tú': False, 'siento': True, 'puede': False, 'con': True, 'ingrato': False, 'los': False, 'ese': False, 'mi': True, 'fallar': False, 'podría': False, 'será': False, 'entiendo': False, 'alcanzar': False, 'el': False, 'había': False, 'sembrado': False, 'cómo': False, 'le': False, 'salir': False, 'nunca': False, 'difícil': False, 'tiene': False, 'para': False, 'no': False, 'formas': False, 'todo': False, 'cambiar': False}, 'neg')\n",
            "___________________________________________________________________________________________________________________\n",
            "Oración: \n",
            "({'pronóstico': False, 'puedo': True, 'por': False, 'pierdas': False, 'persona': False, 'interior': False, 'paso': False, 'pueden': False, 'cosa': False, 'solo': False, 'permitas': False, 'ya': False, 'cosas': False, 'sucedió': True, 'amor': False, 'frutos': False, 'es': False, 'gozo': False, 'aprender': False, 'equivoqué': False, 'ser': False, 'esperar': False, 'manera': True, 'lo': True, 'muy': False, 'positiva': False, 'esperanza': False, 'quedan': False, 'tipo': False, 'pero': False, 'vida': False, 'recoger': False, 'la': False, 'porque': False, 'primer': False, 'hacer': False, 'paz': False, 'olvidanste': False, 'minutos': False, 'a': False, 'otra': False, 'viniste': False, 'de': True, 'que': True, 'fuerza': False, 'creer': True, 'aceptarte': False, 'alegría': False, 'puerta': False, 'cerrar': False, 'un': False, 'me': False, 'en': False, 'aquí': False, 'entrar': False, 'más': False, 'tú': False, 'siento': False, 'puede': False, 'con': False, 'ingrato': False, 'los': False, 'ese': False, 'mi': False, 'fallar': True, 'podría': False, 'será': False, 'entiendo': False, 'alcanzar': False, 'el': False, 'había': True, 'sembrado': False, 'cómo': False, 'le': False, 'salir': False, 'nunca': False, 'difícil': False, 'tiene': False, 'para': False, 'no': True, 'formas': False, 'todo': False, 'cambiar': False}, 'neg')\n",
            "___________________________________________________________________________________________________________________\n"
          ]
        }
      ]
    },
    {
      "cell_type": "markdown",
      "source": [
        "#### Se ingresa el conjunto de datos en el modelo"
      ],
      "metadata": {
        "id": "8x6WbBLycwnw"
      }
    },
    {
      "cell_type": "code",
      "source": [
        "NaiveBClassifier = nbc.train(array_palabras)"
      ],
      "metadata": {
        "id": "b9E6SujIbiou"
      },
      "execution_count": null,
      "outputs": []
    },
    {
      "cell_type": "markdown",
      "source": [
        "#### Se consultan las etiquetas "
      ],
      "metadata": {
        "id": "CI4j0ChIc2L5"
      }
    },
    {
      "cell_type": "code",
      "source": [
        "NaiveBClassifier.labels()"
      ],
      "metadata": {
        "colab": {
          "base_uri": "https://localhost:8080/"
        },
        "id": "3nHYT1xYzDi3",
        "outputId": "4a711997-02dd-4702-e9da-eec6ab9f7802"
      },
      "execution_count": null,
      "outputs": [
        {
          "output_type": "execute_result",
          "data": {
            "text/plain": [
              "['pos', 'neg']"
            ]
          },
          "metadata": {},
          "execution_count": 12
        }
      ]
    },
    {
      "cell_type": "markdown",
      "source": [
        "#### Para aplicar el modelo se debe aplicar el mismo preprocesamiento"
      ],
      "metadata": {
        "id": "NMfqzJlWzJsA"
      }
    },
    {
      "cell_type": "code",
      "source": [
        "array_positivo = {i:(i in word_tokenize(oracion_prueba_positiva.lower())) for i in vocabulario}"
      ],
      "metadata": {
        "id": "f9RnVS3fzOgw"
      },
      "execution_count": null,
      "outputs": []
    },
    {
      "cell_type": "code",
      "source": [
        "array_negativo = {i:(i in word_tokenize(oracion_prueba_negativa.lower())) for i in vocabulario}"
      ],
      "metadata": {
        "id": "25vRwu4P0CZ2"
      },
      "execution_count": null,
      "outputs": []
    },
    {
      "cell_type": "code",
      "source": [
        "array_positivo"
      ],
      "metadata": {
        "colab": {
          "base_uri": "https://localhost:8080/"
        },
        "id": "dyuJ2Iw10NOl",
        "outputId": "95122130-f54a-40fb-b778-e168e613ac20"
      },
      "execution_count": null,
      "outputs": [
        {
          "output_type": "execute_result",
          "data": {
            "text/plain": [
              "{'a': False,\n",
              " 'aceptarte': False,\n",
              " 'alcanzar': False,\n",
              " 'alegría': False,\n",
              " 'amor': False,\n",
              " 'aprender': False,\n",
              " 'aquí': False,\n",
              " 'cambiar': False,\n",
              " 'cerrar': False,\n",
              " 'con': False,\n",
              " 'cosa': False,\n",
              " 'cosas': False,\n",
              " 'creer': False,\n",
              " 'cómo': False,\n",
              " 'de': False,\n",
              " 'difícil': False,\n",
              " 'el': True,\n",
              " 'en': False,\n",
              " 'entiendo': False,\n",
              " 'entrar': False,\n",
              " 'equivoqué': False,\n",
              " 'es': True,\n",
              " 'ese': False,\n",
              " 'esperanza': False,\n",
              " 'esperar': False,\n",
              " 'fallar': False,\n",
              " 'formas': False,\n",
              " 'frutos': False,\n",
              " 'fuerza': False,\n",
              " 'gozo': False,\n",
              " 'había': False,\n",
              " 'hacer': False,\n",
              " 'ingrato': False,\n",
              " 'interior': False,\n",
              " 'la': True,\n",
              " 'le': False,\n",
              " 'lo': False,\n",
              " 'los': False,\n",
              " 'manera': False,\n",
              " 'me': False,\n",
              " 'mi': False,\n",
              " 'minutos': False,\n",
              " 'muy': False,\n",
              " 'más': False,\n",
              " 'no': False,\n",
              " 'nunca': False,\n",
              " 'olvidanste': False,\n",
              " 'otra': False,\n",
              " 'para': False,\n",
              " 'paso': False,\n",
              " 'paz': False,\n",
              " 'permitas': False,\n",
              " 'pero': False,\n",
              " 'persona': False,\n",
              " 'pierdas': False,\n",
              " 'podría': False,\n",
              " 'por': False,\n",
              " 'porque': False,\n",
              " 'positiva': False,\n",
              " 'primer': False,\n",
              " 'pronóstico': False,\n",
              " 'puede': False,\n",
              " 'pueden': False,\n",
              " 'puedo': False,\n",
              " 'puerta': False,\n",
              " 'que': False,\n",
              " 'quedan': False,\n",
              " 'recoger': False,\n",
              " 'salir': False,\n",
              " 'sembrado': False,\n",
              " 'ser': False,\n",
              " 'será': False,\n",
              " 'siento': False,\n",
              " 'solo': False,\n",
              " 'sucedió': False,\n",
              " 'tiene': False,\n",
              " 'tipo': False,\n",
              " 'todo': False,\n",
              " 'tú': False,\n",
              " 'un': False,\n",
              " 'vida': True,\n",
              " 'viniste': False,\n",
              " 'ya': False}"
            ]
          },
          "metadata": {},
          "execution_count": 15
        }
      ]
    },
    {
      "cell_type": "markdown",
      "source": [
        "### Probamos el modelo"
      ],
      "metadata": {
        "id": "7VyXFT1B0Wtl"
      }
    },
    {
      "cell_type": "code",
      "source": [
        "NaiveBClassifier.classify(array_positivo)"
      ],
      "metadata": {
        "colab": {
          "base_uri": "https://localhost:8080/",
          "height": 35
        },
        "id": "iyyODNoW0YwF",
        "outputId": "c47cd2aa-048a-4212-fed7-d42ee3f2faa1"
      },
      "execution_count": null,
      "outputs": [
        {
          "output_type": "execute_result",
          "data": {
            "text/plain": [
              "'pos'"
            ],
            "application/vnd.google.colaboratory.intrinsic+json": {
              "type": "string"
            }
          },
          "metadata": {},
          "execution_count": 16
        }
      ]
    },
    {
      "cell_type": "code",
      "source": [
        "NaiveBClassifier.classify(array_negativo)"
      ],
      "metadata": {
        "colab": {
          "base_uri": "https://localhost:8080/",
          "height": 35
        },
        "id": "5gDx9ff40hpO",
        "outputId": "427834f8-9c28-4980-e3fb-18fb294d9b5a"
      },
      "execution_count": null,
      "outputs": [
        {
          "output_type": "execute_result",
          "data": {
            "text/plain": [
              "'neg'"
            ],
            "application/vnd.google.colaboratory.intrinsic+json": {
              "type": "string"
            }
          },
          "metadata": {},
          "execution_count": 17
        }
      ]
    },
    {
      "cell_type": "markdown",
      "source": [
        "### Guardar el modelo"
      ],
      "metadata": {
        "id": "pFNl6tOO05Cm"
      }
    },
    {
      "cell_type": "code",
      "source": [
        "nombre_file = '/content/models/NaiveBClassifier.joblib.pkl' "
      ],
      "metadata": {
        "id": "nQIWx--w06_W"
      },
      "execution_count": null,
      "outputs": []
    },
    {
      "cell_type": "code",
      "source": [
        "rtn = joblib.dump(NaiveBClassifier, nombre_file, compress = 9)"
      ],
      "metadata": {
        "id": "UeNNtmNq1Knm"
      },
      "execution_count": null,
      "outputs": []
    }
  ]
}