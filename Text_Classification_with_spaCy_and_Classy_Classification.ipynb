{
  "nbformat": 4,
  "nbformat_minor": 0,
  "metadata": {
    "colab": {
      "name": "Text Classification with spaCy and Classy Classification.ipynb",
      "provenance": [],
      "collapsed_sections": []
    },
    "kernelspec": {
      "name": "python3",
      "display_name": "Python 3"
    },
    "language_info": {
      "name": "python"
    }
  },
  "cells": [
    {
      "cell_type": "markdown",
      "source": [
        "#### **Este notebook se ha adaptado al español, y está construido siguiendo el tutorial del canal de Youtube Python Tutorials for Digital Humanities.**\n",
        "\n",
        "Enlace a Youtube: https://www.youtube.com/watch?v=qLux8NfSEQQ\n",
        "\n",
        "Enlace a Github: https://github.com/wjbmattingly/fewshot-text.git\n",
        "\n",
        "En este caso se usó la primera parte de Cronica de una muerte anunciada."
      ],
      "metadata": {
        "id": "hiexWUOukbf0"
      }
    },
    {
      "cell_type": "markdown",
      "source": [
        "Importamos las librerías"
      ],
      "metadata": {
        "id": "WVz2VvZ3jDXx"
      }
    },
    {
      "cell_type": "code",
      "source": [
        "!pip install -U spacy\n",
        "!pip install classy-classification\n",
        "#!python -m spacy download es_core_news_sm"
      ],
      "metadata": {
        "id": "oBHzfbKS5Cb1"
      },
      "execution_count": null,
      "outputs": []
    },
    {
      "cell_type": "markdown",
      "source": [
        "Classy-classification: an easy an intuitive approach to few-shot classification using sentence-transformer or SpaCy models, by Explosion"
      ],
      "metadata": {
        "id": "6Az9wQGMCTbZ"
      }
    },
    {
      "cell_type": "code",
      "source": [
        "import spacy\n",
        "import classy_classification\n",
        "#import es_core_news_sm"
      ],
      "metadata": {
        "id": "2GW8NNZdi-oH"
      },
      "execution_count": null,
      "outputs": []
    },
    {
      "cell_type": "markdown",
      "source": [
        "Cargamos los datos"
      ],
      "metadata": {
        "id": "ZgXl2SvpmG4b"
      }
    },
    {
      "cell_type": "code",
      "source": [
        "data = {}\n",
        "\n",
        "with open ('/content/data/morir.txt', \"r\") as m:\n",
        "    die = m.read().splitlines()\n",
        "\n",
        "with open ('/content/data/vehiculo.txt', \"r\") as a:\n",
        "    vehicle = a.read().splitlines()\n",
        "\n",
        "data[\"morir\"] = die\n",
        "data[\"vehiculo\"] = vehicle\n",
        "\n",
        "data"
      ],
      "metadata": {
        "colab": {
          "base_uri": "https://localhost:8080/"
        },
        "id": "aoS6gXgTmJks",
        "outputId": "d0787d8b-9f8e-4fe9-917b-72d8fa39efd4"
      },
      "execution_count": null,
      "outputs": [
        {
          "output_type": "execute_result",
          "data": {
            "text/plain": [
              "{'morir': ['Me dijo cuando vine a verla que estaba tan enferma que sentia cercana su muerte.',\n",
              "  'Hay que estar siempre de parte del muerto.',\n",
              "  'Acabo de verlos con un cuchillo de matar puercos.',\n",
              "  'Senti que era yo la que me iba a morir.',\n",
              "  'Todos lo vieron salir, con cara de cadaver descompuesto, y todos comprendieron que ya sabia que lo iban a matar.'],\n",
              " 'vehiculo': ['Ya habia formalizado la compra de su camión de carga.',\n",
              "  'De la velocidad con la que conducia se accidento la semana pasada.',\n",
              "  'Siempre andaba en bicicleta o en moto para compensar la falta de dinero.',\n",
              "  'El motor del vehículo se apagó de repente, teniendo las cuatro llantas puestas.',\n",
              "  'Al novio le regalaron un automovil convertible con su nombre grabado en letras goticas bajo el escudo de la fabrica.']}"
            ]
          },
          "metadata": {},
          "execution_count": 57
        }
      ]
    },
    {
      "cell_type": "markdown",
      "source": [
        "Creamos el pipeline con algunos atributos definidos"
      ],
      "metadata": {
        "id": "qfRN1-Wql4Z1"
      }
    },
    {
      "cell_type": "code",
      "source": [
        "nlp = spacy.blank(\"es\")\n",
        "\n",
        "#nlp = spacy.load(\"es_core_news_sm\")\n",
        "nlp.add_pipe(\n",
        "    \"text_categorizer\", \n",
        "    config={\n",
        "        \"data\": data, \n",
        "        \"model\": \"sentence-transformers/paraphrase-multilingual-MiniLM-L12-v2\",\n",
        "        #\"model\": \"spacy\",\n",
        "        \"device\": \"cpu\"\n",
        "    }\n",
        ") \n",
        "\n",
        "print(nlp(\"El dia en que lo iban a matar, Santiago Nasar se levanto a las 5.30 de la mañana.\")._.cats)"
      ],
      "metadata": {
        "colab": {
          "base_uri": "https://localhost:8080/"
        },
        "id": "07wQnsgVl_uS",
        "outputId": "c4f63117-60b2-4fba-a7bc-90d5543b2d33"
      },
      "execution_count": null,
      "outputs": [
        {
          "output_type": "stream",
          "name": "stdout",
          "text": [
            "Fitting 2 folds for each of 6 candidates, totalling 12 fits\n",
            "{'morir': 0.6140407589828139, 'vehiculo': 0.3859592410171861}\n"
          ]
        }
      ]
    },
    {
      "cell_type": "markdown",
      "source": [
        "Carga un modelo para dividir por oraciones"
      ],
      "metadata": {
        "id": "Al4DP19g2g1W"
      }
    },
    {
      "cell_type": "code",
      "source": [
        "sentence_model = spacy.blank(\"es\")\n",
        "\n",
        "sentence_model.add_pipe(\"sentencizer\")"
      ],
      "metadata": {
        "colab": {
          "base_uri": "https://localhost:8080/"
        },
        "id": "0zb8p4Xy2myS",
        "outputId": "2dd7d129-ddd3-4a3c-d38f-1a154cbdb2be"
      },
      "execution_count": null,
      "outputs": [
        {
          "output_type": "execute_result",
          "data": {
            "text/plain": [
              "<spacy.pipeline.sentencizer.Sentencizer at 0x7f2573edb780>"
            ]
          },
          "metadata": {},
          "execution_count": 36
        }
      ]
    },
    {
      "cell_type": "markdown",
      "source": [
        "Carga la novelita del que se extraera la clasificación"
      ],
      "metadata": {
        "id": "VH9ohuUT2xp4"
      }
    },
    {
      "cell_type": "code",
      "source": [
        "with open (\"/content/data/cronica_de_una_muerte_1_parte.txt\", \"r\") as cr:\n",
        "    novela = cr.read()\n"
      ],
      "metadata": {
        "id": "_pcUU-mT24Ib"
      },
      "execution_count": null,
      "outputs": []
    },
    {
      "cell_type": "markdown",
      "source": [
        "Se divide por oraciones"
      ],
      "metadata": {
        "id": "6z4s6D_93PZk"
      }
    },
    {
      "cell_type": "code",
      "source": [
        "sentences = sentence_model(novela)"
      ],
      "metadata": {
        "id": "2xJF7r0u3RmN"
      },
      "execution_count": null,
      "outputs": []
    },
    {
      "cell_type": "markdown",
      "source": [
        "Se clasifican las oraciones de la novela"
      ],
      "metadata": {
        "id": "i0WzcyQ63p-e"
      }
    },
    {
      "cell_type": "code",
      "source": [
        "final_data = []\n",
        "for sentence in sentences.sents:\n",
        "    doc = nlp(sentence.text)\n",
        "    final_data.append({\"oracion\": doc.text, \"categoria\": doc._.cats})"
      ],
      "metadata": {
        "id": "O0LSpiKe3teq"
      },
      "execution_count": null,
      "outputs": []
    },
    {
      "cell_type": "markdown",
      "source": [
        "Consultamos las primeras oraciones"
      ],
      "metadata": {
        "id": "NN50BAsY4YvO"
      }
    },
    {
      "cell_type": "code",
      "source": [
        "final_data[:7]"
      ],
      "metadata": {
        "colab": {
          "base_uri": "https://localhost:8080/"
        },
        "id": "oi_S0CqNBKEG",
        "outputId": "2687245e-fdd7-4db3-cc68-aa413755f099"
      },
      "execution_count": null,
      "outputs": [
        {
          "output_type": "execute_result",
          "data": {
            "text/plain": [
              "[{'categoria': {'morir': 0.5766887651640328, 'vehiculo': 0.42331123483596717},\n",
              "  'oracion': 'El dia en que lo iban a matar, Santiago Nasar se levanto a las 5.30 de la mañana para esperar el buque en que llegaba el obispo.'},\n",
              " {'categoria': {'morir': 0.5450719833799001, 'vehiculo': 0.45492801662009985},\n",
              "  'oracion': 'Habia soñado que atravesaba un bosque de higuerones donde caia una llovizna tierna, y por un instante fue feliz en el sueño, pero al despertar se sintio por completo salpicado de cagada de pajaros.'},\n",
              " {'categoria': {'morir': 0.538333022923825, 'vehiculo': 0.461666977076175},\n",
              "  'oracion': 'Siempre soñaba con arboles, me dijo Placida Linero, su madre, evocando 27 años despues los pormenores de aquel lunes ingrato.'},\n",
              " {'categoria': {'morir': 0.3006379623039023, 'vehiculo': 0.6993620376960975},\n",
              "  'oracion': 'La semana anterior habia soñado que iba solo en un avion de papel de estaño que volaba sin tropezar por entre los almendros, me dijo.'},\n",
              " {'categoria': {'morir': 0.4741454877457248, 'vehiculo': 0.5258545122542753},\n",
              "  'oracion': 'tenia una reputacion muy bien ganada de interprete certera de los sueños ajenos, siempre que se los contaran en ayunas, pero no habia advertido ningun augurio aciago en esos dos sueños de su hijo, ni en los otros sueños con arboles que el le habia contado en las mañanas que precedieron a su muerte.'},\n",
              " {'categoria': {'morir': 0.47190512972313764, 'vehiculo': 0.5280948702768625},\n",
              "  'oracion': '\\n\\nTampoco Santiago Nasar reconocio el presagio.'},\n",
              " {'categoria': {'morir': 0.4686022849201598, 'vehiculo': 0.5313977150798402},\n",
              "  'oracion': 'Habia dormido poco y mal, sin quitarse la ropa, y desperto con dolor de cabeza y con un sedimento de estribo de cobre en el paladar, y los interpreto como estragos naturales de la parranda de bodas que se habia prolongado hasta despues de la media noche.'}]"
            ]
          },
          "metadata": {},
          "execution_count": 64
        }
      ]
    },
    {
      "cell_type": "markdown",
      "source": [
        "Consultar las oraciones con categoría mayor a 0.8"
      ],
      "metadata": {
        "id": "SvqeSzwkh7Ph"
      }
    },
    {
      "cell_type": "code",
      "source": [
        "for item in final_data:\n",
        "  if item['categoria']['morir'] > 0.8:\n",
        "    print(item['oracion'].strip())\n",
        "    print(item['categoria'])\n",
        "    print()"
      ],
      "metadata": {
        "id": "W4FnfjB4BNZk",
        "colab": {
          "base_uri": "https://localhost:8080/"
        },
        "outputId": "c548b1e3-5a28-4c2d-9ee3-886e7465a34e"
      },
      "execution_count": null,
      "outputs": [
        {
          "output_type": "stream",
          "name": "stdout",
          "text": [
            "El dia en que lo iban a matar, su madre creyo que el se habia equivocado de fecha cuando lo vio vestido de blanco.\n",
            "{'morir': 0.8023125718192756, 'vehiculo': 0.19768742818072457}\n",
            "\n",
            "Al contrario, me dijo cuando vine a verla, poco antes de su muerte.\n",
            "{'morir': 0.8080295918933426, 'vehiculo': 0.19197040810665733}\n",
            "\n",
            "Victoria Guzman le mostro el cuchillo ensangrentado.\n",
            "{'morir': 0.8848547796139807, 'vehiculo': 0.11514522038601908}\n",
            "\n",
            "No obstante, Divina Flor me confeso en una visita posterior, cuando ya su madre habia muerto, que esta no le habia dicho nada a Santiago Nasar porque en el fondo de su alma queria que lo mataran.\n",
            "{'morir': 0.8176276423341966, 'vehiculo': 0.18237235766580326}\n",
            "\n",
            "Mi hermana sintio pasar el angel.\n",
            "{'morir': 0.8698397293026605, 'vehiculo': 0.13016027069733954}\n",
            "\n",
            "Tanto, que a veces he pensado que Margot ya sabia que lo iban a matar y queria esconderlo en tu casa.\n",
            "{'morir': 0.8031742962318358, 'vehiculo': 0.19682570376816427}\n",
            "\n",
            "En realidad, mi hermana Margot era una de las pocas personas que todavia ignoraban que lo iban a matar.\n",
            "{'morir': 0.8370844751170826, 'vehiculo': 0.16291552488291727}\n",
            "\n",
            "Senti que era yo la que me iba a morir, dijo mi hermana.\n",
            "{'morir': 0.9370331459070371, 'vehiculo': 0.06296685409296274}\n",
            "\n",
            "No es justo que todo el mundo sepa que le van a matar el hijo, y que ella sea la unica que no lo sabe.\n",
            "{'morir': 0.9001181064982923, 'vehiculo': 0.09988189350170781}\n",
            "\n",
            "-Hay que estar siempre de parte del muerto -dijo ella.\n",
            "{'morir': 0.8975901609198491, 'vehiculo': 0.1024098390801509}\n",
            "\n",
            "Los mas pequeños, tocados por el soplo de la tragedia, rompieron a llorar.\n",
            "{'morir': 0.8762461133224879, 'vehiculo': 0.12375388667751186}\n",
            "\n",
            "Ya lo mataron.\n",
            "{'morir': 0.8736607052542432, 'vehiculo': 0.12633929474575684}\n",
            "\n",
            "A diferencia de las muchachas de la epoca, que habian descuidado el culto de la muerte, las cuatro eran maestras en la ciencia antigua de velar a los enfermos, confortar a los moribundos y amortajar a los muertos.\n",
            "{'morir': 0.8565649209874744, 'vehiculo': 0.14343507901252536}\n",
            "\n",
            "Lo unico que le rogaba a Dios es que me diera valor para matarme -me dijo Angela Vicario-.\n",
            "{'morir': 0.8075447637428433, 'vehiculo': 0.19245523625715677}\n",
            "\n",
            "-Lo matamos a conciencia -dijo Pedro Vicario-, pero somos inocentes.\n",
            "{'morir': 0.8189215223407769, 'vehiculo': 0.18107847765922308}\n",
            "\n"
          ]
        }
      ]
    },
    {
      "cell_type": "code",
      "source": [
        ""
      ],
      "metadata": {
        "id": "-2LKV4ikgL4K"
      },
      "execution_count": null,
      "outputs": []
    }
  ]
}